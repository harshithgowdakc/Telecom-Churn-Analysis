{
  "cells": [
    {
      "cell_type": "markdown",
      "metadata": {
        "id": "view-in-github",
        "colab_type": "text"
      },
      "source": [
        "<a href=\"https://colab.research.google.com/github/harshithgowdakc/Telecom-Churn-Analysis/blob/main/Telecom_Churn_Analysis_EDA_.ipynb\" target=\"_parent\"><img src=\"https://colab.research.google.com/assets/colab-badge.svg\" alt=\"Open In Colab\"/></a>"
      ]
    },
    {
      "cell_type": "markdown",
      "source": [
        "\n",
        "**Orange S.A., formerly France Télécom S.A., is a French multinational telecommunications corporation. The Orange Telecom's Churn Dataset, consists of cleaned customer activity data (features), along with a churn label specifying whether a customer canceled the subscription. Explore and analyze the data to discover key factors responsible for customer churn and come up with ways/recommendations to ensure customer retention.**"
      ],
      "metadata": {
        "id": "5YKZz0CIS61R"
      }
    },
    {
      "cell_type": "markdown",
      "source": [
        "**Project Type - EDA**      \n",
        "**Contribution - Individual**   \n",
        "**Team Member 1 - Harshith Gowda**"
      ],
      "metadata": {
        "id": "Qo70XE1aTG4x"
      }
    },
    {
      "cell_type": "markdown",
      "source": [
        "# **Project Summary -**"
      ],
      "metadata": {
        "id": "eyZpGwToTjWi"
      }
    },
    {
      "cell_type": "markdown",
      "source": [
        "Customer churn is a big problem in any industry and one of the most important concerns for the Telecom industry. The effect on the revenues of the companies, because of this customer churns is huge, especially in the telecom field, that's why these companies are seeking to develop a predictive potential customer churn. In this highly competitive market, the telecommunications industry experiences an average of 15-25% annual churn rate, and it costs 5-10 times more to acquire a new customer than to retain an existing one, that's why customer retention has now become even more important than customer acquisition.\n",
        "\n",
        "Therefore, finding those factors that increase customer churn is important to take necessary actions to reduce this churn. The main goal of our project is to develop an understanding of the cause of customer churn which assists telecom operators to predict customers who are most likely subject to churn, and what to do to retain the most valuable customer."
      ],
      "metadata": {
        "id": "SzX8wS6_Tk5w"
      }
    },
    {
      "cell_type": "markdown",
      "source": [
        "# **GitHub Link -**"
      ],
      "metadata": {
        "id": "51b6bE0bTsau"
      }
    },
    {
      "cell_type": "markdown",
      "source": [
        "https://github.com/harshithgowdakc/Telecom-Churn-Analysis.git"
      ],
      "metadata": {
        "id": "TcL4xsfjTvzF"
      }
    },
    {
      "cell_type": "markdown",
      "source": [
        "# **Problem Statement**"
      ],
      "metadata": {
        "id": "hu2cnZCrURWc"
      }
    },
    {
      "cell_type": "markdown",
      "source": [
        "*   Finding factors and cause those influence customers to churn.\n",
        "*   Retain churn customers by taking appropriate steps\n",
        "*   Providing offers based on affecting factors"
      ],
      "metadata": {
        "id": "11DZUrznUYZ6"
      }
    },
    {
      "cell_type": "markdown",
      "source": [
        " **Define Your Business Objective?**"
      ],
      "metadata": {
        "id": "1r6kPWOVVMv8"
      }
    },
    {
      "cell_type": "markdown",
      "source": [
        "*   Maximize: Company's profit by retaining customer\n",
        "*   Minimize: Customer churn by identifying the key cause of the problem"
      ],
      "metadata": {
        "id": "U4NcP-ypVWGH"
      }
    },
    {
      "cell_type": "markdown",
      "source": [
        "**# Let's Begin !**"
      ],
      "metadata": {
        "id": "3j4fxAsZV9iT"
      }
    },
    {
      "cell_type": "markdown",
      "source": [
        "#**1. Know Your Data**"
      ],
      "metadata": {
        "id": "N9rpIs1ZWNqL"
      }
    },
    {
      "cell_type": "code",
      "execution_count": 2,
      "metadata": {
        "id": "Wk5yWFUby3vA"
      },
      "outputs": [],
      "source": [
        "# Import Libraries\n",
        "import pandas as pd\n",
        "import numpy as np\n",
        "\n",
        "#import visualization packages\n",
        "import matplotlib.pyplot as plt\n",
        "%matplotlib inline\n",
        "import seaborn as sns"
      ]
    },
    {
      "cell_type": "code",
      "execution_count": 3,
      "metadata": {
        "colab": {
          "base_uri": "https://localhost:8080/"
        },
        "id": "qgsJI3_93KE2",
        "outputId": "6eff0950-1e5e-41e1-932f-5aa9e69827f8"
      },
      "outputs": [
        {
          "output_type": "stream",
          "name": "stdout",
          "text": [
            "Mounted at /content/drive\n"
          ]
        }
      ],
      "source": [
        "#mount the drive\n",
        "from google.colab import drive\n",
        "drive.mount('/content/drive')"
      ]
    },
    {
      "cell_type": "code",
      "execution_count": 4,
      "metadata": {
        "id": "3x0GZTbu30QV"
      },
      "outputs": [],
      "source": [
        "# Load Dataset \n",
        "telecom_df = pd.read_csv('/content/drive/MyDrive/Colab Notebooks/AlmaBetter/Project CPG/Telecom Churn.csv')"
      ]
    },
    {
      "cell_type": "code",
      "source": [
        "# Viewing the data of top 5 rows to look the glimps of the data\n",
        "telecom_df.head(5)"
      ],
      "metadata": {
        "colab": {
          "base_uri": "https://localhost:8080/",
          "height": 285
        },
        "id": "56b72e8pXObb",
        "outputId": "207d1c0b-7727-4daf-fbd4-1c4794a22cef"
      },
      "execution_count": 4,
      "outputs": [
        {
          "output_type": "execute_result",
          "data": {
            "text/plain": [
              "  State  Account length  Area code International plan Voice mail plan  \\\n",
              "0    KS             128        415                 No             Yes   \n",
              "1    OH             107        415                 No             Yes   \n",
              "2    NJ             137        415                 No              No   \n",
              "3    OH              84        408                Yes              No   \n",
              "4    OK              75        415                Yes              No   \n",
              "\n",
              "   Number vmail messages  Total day minutes  Total day calls  \\\n",
              "0                     25              265.1              110   \n",
              "1                     26              161.6              123   \n",
              "2                      0              243.4              114   \n",
              "3                      0              299.4               71   \n",
              "4                      0              166.7              113   \n",
              "\n",
              "   Total day charge  Total eve minutes  Total eve calls  Total eve charge  \\\n",
              "0             45.07              197.4               99             16.78   \n",
              "1             27.47              195.5              103             16.62   \n",
              "2             41.38              121.2              110             10.30   \n",
              "3             50.90               61.9               88              5.26   \n",
              "4             28.34              148.3              122             12.61   \n",
              "\n",
              "   Total night minutes  Total night calls  Total night charge  \\\n",
              "0                244.7                 91               11.01   \n",
              "1                254.4                103               11.45   \n",
              "2                162.6                104                7.32   \n",
              "3                196.9                 89                8.86   \n",
              "4                186.9                121                8.41   \n",
              "\n",
              "   Total intl minutes  Total intl calls  Total intl charge  \\\n",
              "0                10.0                 3               2.70   \n",
              "1                13.7                 3               3.70   \n",
              "2                12.2                 5               3.29   \n",
              "3                 6.6                 7               1.78   \n",
              "4                10.1                 3               2.73   \n",
              "\n",
              "   Customer service calls  Churn  \n",
              "0                       1  False  \n",
              "1                       1  False  \n",
              "2                       0  False  \n",
              "3                       2  False  \n",
              "4                       3  False  "
            ],
            "text/html": [
              "\n",
              "  <div id=\"df-6a90916b-7e99-44de-b018-bd8b6871a2d1\">\n",
              "    <div class=\"colab-df-container\">\n",
              "      <div>\n",
              "<style scoped>\n",
              "    .dataframe tbody tr th:only-of-type {\n",
              "        vertical-align: middle;\n",
              "    }\n",
              "\n",
              "    .dataframe tbody tr th {\n",
              "        vertical-align: top;\n",
              "    }\n",
              "\n",
              "    .dataframe thead th {\n",
              "        text-align: right;\n",
              "    }\n",
              "</style>\n",
              "<table border=\"1\" class=\"dataframe\">\n",
              "  <thead>\n",
              "    <tr style=\"text-align: right;\">\n",
              "      <th></th>\n",
              "      <th>State</th>\n",
              "      <th>Account length</th>\n",
              "      <th>Area code</th>\n",
              "      <th>International plan</th>\n",
              "      <th>Voice mail plan</th>\n",
              "      <th>Number vmail messages</th>\n",
              "      <th>Total day minutes</th>\n",
              "      <th>Total day calls</th>\n",
              "      <th>Total day charge</th>\n",
              "      <th>Total eve minutes</th>\n",
              "      <th>Total eve calls</th>\n",
              "      <th>Total eve charge</th>\n",
              "      <th>Total night minutes</th>\n",
              "      <th>Total night calls</th>\n",
              "      <th>Total night charge</th>\n",
              "      <th>Total intl minutes</th>\n",
              "      <th>Total intl calls</th>\n",
              "      <th>Total intl charge</th>\n",
              "      <th>Customer service calls</th>\n",
              "      <th>Churn</th>\n",
              "    </tr>\n",
              "  </thead>\n",
              "  <tbody>\n",
              "    <tr>\n",
              "      <th>0</th>\n",
              "      <td>KS</td>\n",
              "      <td>128</td>\n",
              "      <td>415</td>\n",
              "      <td>No</td>\n",
              "      <td>Yes</td>\n",
              "      <td>25</td>\n",
              "      <td>265.1</td>\n",
              "      <td>110</td>\n",
              "      <td>45.07</td>\n",
              "      <td>197.4</td>\n",
              "      <td>99</td>\n",
              "      <td>16.78</td>\n",
              "      <td>244.7</td>\n",
              "      <td>91</td>\n",
              "      <td>11.01</td>\n",
              "      <td>10.0</td>\n",
              "      <td>3</td>\n",
              "      <td>2.70</td>\n",
              "      <td>1</td>\n",
              "      <td>False</td>\n",
              "    </tr>\n",
              "    <tr>\n",
              "      <th>1</th>\n",
              "      <td>OH</td>\n",
              "      <td>107</td>\n",
              "      <td>415</td>\n",
              "      <td>No</td>\n",
              "      <td>Yes</td>\n",
              "      <td>26</td>\n",
              "      <td>161.6</td>\n",
              "      <td>123</td>\n",
              "      <td>27.47</td>\n",
              "      <td>195.5</td>\n",
              "      <td>103</td>\n",
              "      <td>16.62</td>\n",
              "      <td>254.4</td>\n",
              "      <td>103</td>\n",
              "      <td>11.45</td>\n",
              "      <td>13.7</td>\n",
              "      <td>3</td>\n",
              "      <td>3.70</td>\n",
              "      <td>1</td>\n",
              "      <td>False</td>\n",
              "    </tr>\n",
              "    <tr>\n",
              "      <th>2</th>\n",
              "      <td>NJ</td>\n",
              "      <td>137</td>\n",
              "      <td>415</td>\n",
              "      <td>No</td>\n",
              "      <td>No</td>\n",
              "      <td>0</td>\n",
              "      <td>243.4</td>\n",
              "      <td>114</td>\n",
              "      <td>41.38</td>\n",
              "      <td>121.2</td>\n",
              "      <td>110</td>\n",
              "      <td>10.30</td>\n",
              "      <td>162.6</td>\n",
              "      <td>104</td>\n",
              "      <td>7.32</td>\n",
              "      <td>12.2</td>\n",
              "      <td>5</td>\n",
              "      <td>3.29</td>\n",
              "      <td>0</td>\n",
              "      <td>False</td>\n",
              "    </tr>\n",
              "    <tr>\n",
              "      <th>3</th>\n",
              "      <td>OH</td>\n",
              "      <td>84</td>\n",
              "      <td>408</td>\n",
              "      <td>Yes</td>\n",
              "      <td>No</td>\n",
              "      <td>0</td>\n",
              "      <td>299.4</td>\n",
              "      <td>71</td>\n",
              "      <td>50.90</td>\n",
              "      <td>61.9</td>\n",
              "      <td>88</td>\n",
              "      <td>5.26</td>\n",
              "      <td>196.9</td>\n",
              "      <td>89</td>\n",
              "      <td>8.86</td>\n",
              "      <td>6.6</td>\n",
              "      <td>7</td>\n",
              "      <td>1.78</td>\n",
              "      <td>2</td>\n",
              "      <td>False</td>\n",
              "    </tr>\n",
              "    <tr>\n",
              "      <th>4</th>\n",
              "      <td>OK</td>\n",
              "      <td>75</td>\n",
              "      <td>415</td>\n",
              "      <td>Yes</td>\n",
              "      <td>No</td>\n",
              "      <td>0</td>\n",
              "      <td>166.7</td>\n",
              "      <td>113</td>\n",
              "      <td>28.34</td>\n",
              "      <td>148.3</td>\n",
              "      <td>122</td>\n",
              "      <td>12.61</td>\n",
              "      <td>186.9</td>\n",
              "      <td>121</td>\n",
              "      <td>8.41</td>\n",
              "      <td>10.1</td>\n",
              "      <td>3</td>\n",
              "      <td>2.73</td>\n",
              "      <td>3</td>\n",
              "      <td>False</td>\n",
              "    </tr>\n",
              "  </tbody>\n",
              "</table>\n",
              "</div>\n",
              "      <button class=\"colab-df-convert\" onclick=\"convertToInteractive('df-6a90916b-7e99-44de-b018-bd8b6871a2d1')\"\n",
              "              title=\"Convert this dataframe to an interactive table.\"\n",
              "              style=\"display:none;\">\n",
              "        \n",
              "  <svg xmlns=\"http://www.w3.org/2000/svg\" height=\"24px\"viewBox=\"0 0 24 24\"\n",
              "       width=\"24px\">\n",
              "    <path d=\"M0 0h24v24H0V0z\" fill=\"none\"/>\n",
              "    <path d=\"M18.56 5.44l.94 2.06.94-2.06 2.06-.94-2.06-.94-.94-2.06-.94 2.06-2.06.94zm-11 1L8.5 8.5l.94-2.06 2.06-.94-2.06-.94L8.5 2.5l-.94 2.06-2.06.94zm10 10l.94 2.06.94-2.06 2.06-.94-2.06-.94-.94-2.06-.94 2.06-2.06.94z\"/><path d=\"M17.41 7.96l-1.37-1.37c-.4-.4-.92-.59-1.43-.59-.52 0-1.04.2-1.43.59L10.3 9.45l-7.72 7.72c-.78.78-.78 2.05 0 2.83L4 21.41c.39.39.9.59 1.41.59.51 0 1.02-.2 1.41-.59l7.78-7.78 2.81-2.81c.8-.78.8-2.07 0-2.86zM5.41 20L4 18.59l7.72-7.72 1.47 1.35L5.41 20z\"/>\n",
              "  </svg>\n",
              "      </button>\n",
              "      \n",
              "  <style>\n",
              "    .colab-df-container {\n",
              "      display:flex;\n",
              "      flex-wrap:wrap;\n",
              "      gap: 12px;\n",
              "    }\n",
              "\n",
              "    .colab-df-convert {\n",
              "      background-color: #E8F0FE;\n",
              "      border: none;\n",
              "      border-radius: 50%;\n",
              "      cursor: pointer;\n",
              "      display: none;\n",
              "      fill: #1967D2;\n",
              "      height: 32px;\n",
              "      padding: 0 0 0 0;\n",
              "      width: 32px;\n",
              "    }\n",
              "\n",
              "    .colab-df-convert:hover {\n",
              "      background-color: #E2EBFA;\n",
              "      box-shadow: 0px 1px 2px rgba(60, 64, 67, 0.3), 0px 1px 3px 1px rgba(60, 64, 67, 0.15);\n",
              "      fill: #174EA6;\n",
              "    }\n",
              "\n",
              "    [theme=dark] .colab-df-convert {\n",
              "      background-color: #3B4455;\n",
              "      fill: #D2E3FC;\n",
              "    }\n",
              "\n",
              "    [theme=dark] .colab-df-convert:hover {\n",
              "      background-color: #434B5C;\n",
              "      box-shadow: 0px 1px 3px 1px rgba(0, 0, 0, 0.15);\n",
              "      filter: drop-shadow(0px 1px 2px rgba(0, 0, 0, 0.3));\n",
              "      fill: #FFFFFF;\n",
              "    }\n",
              "  </style>\n",
              "\n",
              "      <script>\n",
              "        const buttonEl =\n",
              "          document.querySelector('#df-6a90916b-7e99-44de-b018-bd8b6871a2d1 button.colab-df-convert');\n",
              "        buttonEl.style.display =\n",
              "          google.colab.kernel.accessAllowed ? 'block' : 'none';\n",
              "\n",
              "        async function convertToInteractive(key) {\n",
              "          const element = document.querySelector('#df-6a90916b-7e99-44de-b018-bd8b6871a2d1');\n",
              "          const dataTable =\n",
              "            await google.colab.kernel.invokeFunction('convertToInteractive',\n",
              "                                                     [key], {});\n",
              "          if (!dataTable) return;\n",
              "\n",
              "          const docLinkHtml = 'Like what you see? Visit the ' +\n",
              "            '<a target=\"_blank\" href=https://colab.research.google.com/notebooks/data_table.ipynb>data table notebook</a>'\n",
              "            + ' to learn more about interactive tables.';\n",
              "          element.innerHTML = '';\n",
              "          dataTable['output_type'] = 'display_data';\n",
              "          await google.colab.output.renderOutput(dataTable, element);\n",
              "          const docLink = document.createElement('div');\n",
              "          docLink.innerHTML = docLinkHtml;\n",
              "          element.appendChild(docLink);\n",
              "        }\n",
              "      </script>\n",
              "    </div>\n",
              "  </div>\n",
              "  "
            ]
          },
          "metadata": {},
          "execution_count": 4
        }
      ]
    },
    {
      "cell_type": "code",
      "source": [
        "# View the data of bottom 5 rows to look the glimps of the data\n",
        "telecom_df.tail(5)"
      ],
      "metadata": {
        "colab": {
          "base_uri": "https://localhost:8080/",
          "height": 285
        },
        "id": "W7yc-2OUXZ6D",
        "outputId": "80216e6e-7321-48f7-cfb3-b60f53fb3ac1"
      },
      "execution_count": 5,
      "outputs": [
        {
          "output_type": "execute_result",
          "data": {
            "text/plain": [
              "     State  Account length  Area code International plan Voice mail plan  \\\n",
              "3328    AZ             192        415                 No             Yes   \n",
              "3329    WV              68        415                 No              No   \n",
              "3330    RI              28        510                 No              No   \n",
              "3331    CT             184        510                Yes              No   \n",
              "3332    TN              74        415                 No             Yes   \n",
              "\n",
              "      Number vmail messages  Total day minutes  Total day calls  \\\n",
              "3328                     36              156.2               77   \n",
              "3329                      0              231.1               57   \n",
              "3330                      0              180.8              109   \n",
              "3331                      0              213.8              105   \n",
              "3332                     25              234.4              113   \n",
              "\n",
              "      Total day charge  Total eve minutes  Total eve calls  Total eve charge  \\\n",
              "3328             26.55              215.5              126             18.32   \n",
              "3329             39.29              153.4               55             13.04   \n",
              "3330             30.74              288.8               58             24.55   \n",
              "3331             36.35              159.6               84             13.57   \n",
              "3332             39.85              265.9               82             22.60   \n",
              "\n",
              "      Total night minutes  Total night calls  Total night charge  \\\n",
              "3328                279.1                 83               12.56   \n",
              "3329                191.3                123                8.61   \n",
              "3330                191.9                 91                8.64   \n",
              "3331                139.2                137                6.26   \n",
              "3332                241.4                 77               10.86   \n",
              "\n",
              "      Total intl minutes  Total intl calls  Total intl charge  \\\n",
              "3328                 9.9                 6               2.67   \n",
              "3329                 9.6                 4               2.59   \n",
              "3330                14.1                 6               3.81   \n",
              "3331                 5.0                10               1.35   \n",
              "3332                13.7                 4               3.70   \n",
              "\n",
              "      Customer service calls  Churn  \n",
              "3328                       2  False  \n",
              "3329                       3  False  \n",
              "3330                       2  False  \n",
              "3331                       2  False  \n",
              "3332                       0  False  "
            ],
            "text/html": [
              "\n",
              "  <div id=\"df-84f2c49d-1798-4399-b017-f10f6f8253e5\">\n",
              "    <div class=\"colab-df-container\">\n",
              "      <div>\n",
              "<style scoped>\n",
              "    .dataframe tbody tr th:only-of-type {\n",
              "        vertical-align: middle;\n",
              "    }\n",
              "\n",
              "    .dataframe tbody tr th {\n",
              "        vertical-align: top;\n",
              "    }\n",
              "\n",
              "    .dataframe thead th {\n",
              "        text-align: right;\n",
              "    }\n",
              "</style>\n",
              "<table border=\"1\" class=\"dataframe\">\n",
              "  <thead>\n",
              "    <tr style=\"text-align: right;\">\n",
              "      <th></th>\n",
              "      <th>State</th>\n",
              "      <th>Account length</th>\n",
              "      <th>Area code</th>\n",
              "      <th>International plan</th>\n",
              "      <th>Voice mail plan</th>\n",
              "      <th>Number vmail messages</th>\n",
              "      <th>Total day minutes</th>\n",
              "      <th>Total day calls</th>\n",
              "      <th>Total day charge</th>\n",
              "      <th>Total eve minutes</th>\n",
              "      <th>Total eve calls</th>\n",
              "      <th>Total eve charge</th>\n",
              "      <th>Total night minutes</th>\n",
              "      <th>Total night calls</th>\n",
              "      <th>Total night charge</th>\n",
              "      <th>Total intl minutes</th>\n",
              "      <th>Total intl calls</th>\n",
              "      <th>Total intl charge</th>\n",
              "      <th>Customer service calls</th>\n",
              "      <th>Churn</th>\n",
              "    </tr>\n",
              "  </thead>\n",
              "  <tbody>\n",
              "    <tr>\n",
              "      <th>3328</th>\n",
              "      <td>AZ</td>\n",
              "      <td>192</td>\n",
              "      <td>415</td>\n",
              "      <td>No</td>\n",
              "      <td>Yes</td>\n",
              "      <td>36</td>\n",
              "      <td>156.2</td>\n",
              "      <td>77</td>\n",
              "      <td>26.55</td>\n",
              "      <td>215.5</td>\n",
              "      <td>126</td>\n",
              "      <td>18.32</td>\n",
              "      <td>279.1</td>\n",
              "      <td>83</td>\n",
              "      <td>12.56</td>\n",
              "      <td>9.9</td>\n",
              "      <td>6</td>\n",
              "      <td>2.67</td>\n",
              "      <td>2</td>\n",
              "      <td>False</td>\n",
              "    </tr>\n",
              "    <tr>\n",
              "      <th>3329</th>\n",
              "      <td>WV</td>\n",
              "      <td>68</td>\n",
              "      <td>415</td>\n",
              "      <td>No</td>\n",
              "      <td>No</td>\n",
              "      <td>0</td>\n",
              "      <td>231.1</td>\n",
              "      <td>57</td>\n",
              "      <td>39.29</td>\n",
              "      <td>153.4</td>\n",
              "      <td>55</td>\n",
              "      <td>13.04</td>\n",
              "      <td>191.3</td>\n",
              "      <td>123</td>\n",
              "      <td>8.61</td>\n",
              "      <td>9.6</td>\n",
              "      <td>4</td>\n",
              "      <td>2.59</td>\n",
              "      <td>3</td>\n",
              "      <td>False</td>\n",
              "    </tr>\n",
              "    <tr>\n",
              "      <th>3330</th>\n",
              "      <td>RI</td>\n",
              "      <td>28</td>\n",
              "      <td>510</td>\n",
              "      <td>No</td>\n",
              "      <td>No</td>\n",
              "      <td>0</td>\n",
              "      <td>180.8</td>\n",
              "      <td>109</td>\n",
              "      <td>30.74</td>\n",
              "      <td>288.8</td>\n",
              "      <td>58</td>\n",
              "      <td>24.55</td>\n",
              "      <td>191.9</td>\n",
              "      <td>91</td>\n",
              "      <td>8.64</td>\n",
              "      <td>14.1</td>\n",
              "      <td>6</td>\n",
              "      <td>3.81</td>\n",
              "      <td>2</td>\n",
              "      <td>False</td>\n",
              "    </tr>\n",
              "    <tr>\n",
              "      <th>3331</th>\n",
              "      <td>CT</td>\n",
              "      <td>184</td>\n",
              "      <td>510</td>\n",
              "      <td>Yes</td>\n",
              "      <td>No</td>\n",
              "      <td>0</td>\n",
              "      <td>213.8</td>\n",
              "      <td>105</td>\n",
              "      <td>36.35</td>\n",
              "      <td>159.6</td>\n",
              "      <td>84</td>\n",
              "      <td>13.57</td>\n",
              "      <td>139.2</td>\n",
              "      <td>137</td>\n",
              "      <td>6.26</td>\n",
              "      <td>5.0</td>\n",
              "      <td>10</td>\n",
              "      <td>1.35</td>\n",
              "      <td>2</td>\n",
              "      <td>False</td>\n",
              "    </tr>\n",
              "    <tr>\n",
              "      <th>3332</th>\n",
              "      <td>TN</td>\n",
              "      <td>74</td>\n",
              "      <td>415</td>\n",
              "      <td>No</td>\n",
              "      <td>Yes</td>\n",
              "      <td>25</td>\n",
              "      <td>234.4</td>\n",
              "      <td>113</td>\n",
              "      <td>39.85</td>\n",
              "      <td>265.9</td>\n",
              "      <td>82</td>\n",
              "      <td>22.60</td>\n",
              "      <td>241.4</td>\n",
              "      <td>77</td>\n",
              "      <td>10.86</td>\n",
              "      <td>13.7</td>\n",
              "      <td>4</td>\n",
              "      <td>3.70</td>\n",
              "      <td>0</td>\n",
              "      <td>False</td>\n",
              "    </tr>\n",
              "  </tbody>\n",
              "</table>\n",
              "</div>\n",
              "      <button class=\"colab-df-convert\" onclick=\"convertToInteractive('df-84f2c49d-1798-4399-b017-f10f6f8253e5')\"\n",
              "              title=\"Convert this dataframe to an interactive table.\"\n",
              "              style=\"display:none;\">\n",
              "        \n",
              "  <svg xmlns=\"http://www.w3.org/2000/svg\" height=\"24px\"viewBox=\"0 0 24 24\"\n",
              "       width=\"24px\">\n",
              "    <path d=\"M0 0h24v24H0V0z\" fill=\"none\"/>\n",
              "    <path d=\"M18.56 5.44l.94 2.06.94-2.06 2.06-.94-2.06-.94-.94-2.06-.94 2.06-2.06.94zm-11 1L8.5 8.5l.94-2.06 2.06-.94-2.06-.94L8.5 2.5l-.94 2.06-2.06.94zm10 10l.94 2.06.94-2.06 2.06-.94-2.06-.94-.94-2.06-.94 2.06-2.06.94z\"/><path d=\"M17.41 7.96l-1.37-1.37c-.4-.4-.92-.59-1.43-.59-.52 0-1.04.2-1.43.59L10.3 9.45l-7.72 7.72c-.78.78-.78 2.05 0 2.83L4 21.41c.39.39.9.59 1.41.59.51 0 1.02-.2 1.41-.59l7.78-7.78 2.81-2.81c.8-.78.8-2.07 0-2.86zM5.41 20L4 18.59l7.72-7.72 1.47 1.35L5.41 20z\"/>\n",
              "  </svg>\n",
              "      </button>\n",
              "      \n",
              "  <style>\n",
              "    .colab-df-container {\n",
              "      display:flex;\n",
              "      flex-wrap:wrap;\n",
              "      gap: 12px;\n",
              "    }\n",
              "\n",
              "    .colab-df-convert {\n",
              "      background-color: #E8F0FE;\n",
              "      border: none;\n",
              "      border-radius: 50%;\n",
              "      cursor: pointer;\n",
              "      display: none;\n",
              "      fill: #1967D2;\n",
              "      height: 32px;\n",
              "      padding: 0 0 0 0;\n",
              "      width: 32px;\n",
              "    }\n",
              "\n",
              "    .colab-df-convert:hover {\n",
              "      background-color: #E2EBFA;\n",
              "      box-shadow: 0px 1px 2px rgba(60, 64, 67, 0.3), 0px 1px 3px 1px rgba(60, 64, 67, 0.15);\n",
              "      fill: #174EA6;\n",
              "    }\n",
              "\n",
              "    [theme=dark] .colab-df-convert {\n",
              "      background-color: #3B4455;\n",
              "      fill: #D2E3FC;\n",
              "    }\n",
              "\n",
              "    [theme=dark] .colab-df-convert:hover {\n",
              "      background-color: #434B5C;\n",
              "      box-shadow: 0px 1px 3px 1px rgba(0, 0, 0, 0.15);\n",
              "      filter: drop-shadow(0px 1px 2px rgba(0, 0, 0, 0.3));\n",
              "      fill: #FFFFFF;\n",
              "    }\n",
              "  </style>\n",
              "\n",
              "      <script>\n",
              "        const buttonEl =\n",
              "          document.querySelector('#df-84f2c49d-1798-4399-b017-f10f6f8253e5 button.colab-df-convert');\n",
              "        buttonEl.style.display =\n",
              "          google.colab.kernel.accessAllowed ? 'block' : 'none';\n",
              "\n",
              "        async function convertToInteractive(key) {\n",
              "          const element = document.querySelector('#df-84f2c49d-1798-4399-b017-f10f6f8253e5');\n",
              "          const dataTable =\n",
              "            await google.colab.kernel.invokeFunction('convertToInteractive',\n",
              "                                                     [key], {});\n",
              "          if (!dataTable) return;\n",
              "\n",
              "          const docLinkHtml = 'Like what you see? Visit the ' +\n",
              "            '<a target=\"_blank\" href=https://colab.research.google.com/notebooks/data_table.ipynb>data table notebook</a>'\n",
              "            + ' to learn more about interactive tables.';\n",
              "          element.innerHTML = '';\n",
              "          dataTable['output_type'] = 'display_data';\n",
              "          await google.colab.output.renderOutput(dataTable, element);\n",
              "          const docLink = document.createElement('div');\n",
              "          docLink.innerHTML = docLinkHtml;\n",
              "          element.appendChild(docLink);\n",
              "        }\n",
              "      </script>\n",
              "    </div>\n",
              "  </div>\n",
              "  "
            ]
          },
          "metadata": {},
          "execution_count": 5
        }
      ]
    },
    {
      "cell_type": "code",
      "source": [
        "#Getting the shape of dataset with rows and columns\n",
        "print(telecom_df.shape)"
      ],
      "metadata": {
        "colab": {
          "base_uri": "https://localhost:8080/"
        },
        "id": "XTfRmPvaXc3A",
        "outputId": "ae35a65d-54fc-4563-d05d-99f7d90efd1b"
      },
      "execution_count": 6,
      "outputs": [
        {
          "output_type": "stream",
          "name": "stdout",
          "text": [
            "(3333, 20)\n"
          ]
        }
      ]
    },
    {
      "cell_type": "code",
      "source": [
        "#Getting all the columns\n",
        "print(\"Features of the dataset:\")\n",
        "telecom_df.columns"
      ],
      "metadata": {
        "colab": {
          "base_uri": "https://localhost:8080/"
        },
        "id": "0yy6hCuuXgNa",
        "outputId": "74a77786-978c-42c1-8d74-72121a8948b3"
      },
      "execution_count": 7,
      "outputs": [
        {
          "output_type": "stream",
          "name": "stdout",
          "text": [
            "Features of the dataset:\n"
          ]
        },
        {
          "output_type": "execute_result",
          "data": {
            "text/plain": [
              "Index(['State', 'Account length', 'Area code', 'International plan',\n",
              "       'Voice mail plan', 'Number vmail messages', 'Total day minutes',\n",
              "       'Total day calls', 'Total day charge', 'Total eve minutes',\n",
              "       'Total eve calls', 'Total eve charge', 'Total night minutes',\n",
              "       'Total night calls', 'Total night charge', 'Total intl minutes',\n",
              "       'Total intl calls', 'Total intl charge', 'Customer service calls',\n",
              "       'Churn'],\n",
              "      dtype='object')"
            ]
          },
          "metadata": {},
          "execution_count": 7
        }
      ]
    },
    {
      "cell_type": "markdown",
      "source": [
        "**Breakdown of Our Features:**\n",
        "\n",
        "**STATE:** 51 Unique States name\n",
        "\n",
        "**Account Length:** Length of The Account\n",
        "\n",
        "**Area Code:** Code Number of Area having some States\n",
        "\n",
        "**International Plan:** Yes Indicate International Plan is Present and No Indicates no subscription for Internatinal Plan\n",
        "\n",
        "**Voice Mail Plan:** Yes Indicates Voice Mail Plan is Present and No Indicates no subscription for Voice Mail Plan\n",
        "\n",
        "**Number vmail messages:** Number of Voice Mail Messages ranging from 0 to 50\n",
        "\n",
        "**Total day minutes:** Total Number of Minutes Spent in Morning\n",
        "\n",
        "**Total day calls:** Total Number of Calls made in Morning.\n",
        "\n",
        "**Total day charge:** Total Charge to the Customers in Morning.\n",
        "\n",
        "**Total eve minutes:** Total Number of Minutes Spent in Evening\n",
        "\n",
        "**Total eve calls:** Total Number of Calls made r in Evening.\n",
        "\n",
        "**Total eve charge:** Total Charge to the Customers in Morning.\n",
        "\n",
        "**Total night minutes:** Total Number of Minutes Spent in the Night.\n",
        "\n",
        "**Total night calls:** Total Number of Calls made in Night.\n",
        "\n",
        "**Total night charge:** Total Charge to the Customers in Night.\n",
        "\n",
        "**Customer service calls:** Number of customer service calls made by customer\n",
        "\n",
        "**Churn:**Customer Churn, True means churned customer, False means retained customer"
      ],
      "metadata": {
        "id": "MOvuseXnXkpL"
      }
    },
    {
      "cell_type": "code",
      "execution_count": 8,
      "metadata": {
        "colab": {
          "base_uri": "https://localhost:8080/"
        },
        "id": "zbHinjK84FGN",
        "outputId": "d54d0ccb-10cb-475c-b4bd-0f99da07dfee"
      },
      "outputs": [
        {
          "output_type": "execute_result",
          "data": {
            "text/plain": [
              "State                      object\n",
              "Account length              int64\n",
              "Area code                   int64\n",
              "International plan         object\n",
              "Voice mail plan            object\n",
              "Number vmail messages       int64\n",
              "Total day minutes         float64\n",
              "Total day calls             int64\n",
              "Total day charge          float64\n",
              "Total eve minutes         float64\n",
              "Total eve calls             int64\n",
              "Total eve charge          float64\n",
              "Total night minutes       float64\n",
              "Total night calls           int64\n",
              "Total night charge        float64\n",
              "Total intl minutes        float64\n",
              "Total intl calls            int64\n",
              "Total intl charge         float64\n",
              "Customer service calls      int64\n",
              "Churn                        bool\n",
              "dtype: object"
            ]
          },
          "metadata": {},
          "execution_count": 8
        }
      ],
      "source": [
        "#Getting the data types of all the columns\n",
        "telecom_df.dtypes"
      ]
    },
    {
      "cell_type": "code",
      "source": [
        "#check details about the data set\n",
        "telecom_df.info()\n",
        "#we see that we have 3333 entries and no null values are present"
      ],
      "metadata": {
        "colab": {
          "base_uri": "https://localhost:8080/"
        },
        "id": "AsZcqk1kYeFD",
        "outputId": "ceb4cfba-2769-46e3-8861-abe17a3f79c7"
      },
      "execution_count": 9,
      "outputs": [
        {
          "output_type": "stream",
          "name": "stdout",
          "text": [
            "<class 'pandas.core.frame.DataFrame'>\n",
            "RangeIndex: 3333 entries, 0 to 3332\n",
            "Data columns (total 20 columns):\n",
            " #   Column                  Non-Null Count  Dtype  \n",
            "---  ------                  --------------  -----  \n",
            " 0   State                   3333 non-null   object \n",
            " 1   Account length          3333 non-null   int64  \n",
            " 2   Area code               3333 non-null   int64  \n",
            " 3   International plan      3333 non-null   object \n",
            " 4   Voice mail plan         3333 non-null   object \n",
            " 5   Number vmail messages   3333 non-null   int64  \n",
            " 6   Total day minutes       3333 non-null   float64\n",
            " 7   Total day calls         3333 non-null   int64  \n",
            " 8   Total day charge        3333 non-null   float64\n",
            " 9   Total eve minutes       3333 non-null   float64\n",
            " 10  Total eve calls         3333 non-null   int64  \n",
            " 11  Total eve charge        3333 non-null   float64\n",
            " 12  Total night minutes     3333 non-null   float64\n",
            " 13  Total night calls       3333 non-null   int64  \n",
            " 14  Total night charge      3333 non-null   float64\n",
            " 15  Total intl minutes      3333 non-null   float64\n",
            " 16  Total intl calls        3333 non-null   int64  \n",
            " 17  Total intl charge       3333 non-null   float64\n",
            " 18  Customer service calls  3333 non-null   int64  \n",
            " 19  Churn                   3333 non-null   bool   \n",
            "dtypes: bool(1), float64(8), int64(8), object(3)\n",
            "memory usage: 498.1+ KB\n"
          ]
        }
      ]
    },
    {
      "cell_type": "code",
      "source": [
        "telecom_df.nunique()"
      ],
      "metadata": {
        "colab": {
          "base_uri": "https://localhost:8080/"
        },
        "id": "6yr6z2piYfz-",
        "outputId": "d4fdaa69-e3ea-4abd-922d-60a1e9d1e623"
      },
      "execution_count": 10,
      "outputs": [
        {
          "output_type": "execute_result",
          "data": {
            "text/plain": [
              "State                       51\n",
              "Account length             212\n",
              "Area code                    3\n",
              "International plan           2\n",
              "Voice mail plan              2\n",
              "Number vmail messages       46\n",
              "Total day minutes         1667\n",
              "Total day calls            119\n",
              "Total day charge          1667\n",
              "Total eve minutes         1611\n",
              "Total eve calls            123\n",
              "Total eve charge          1440\n",
              "Total night minutes       1591\n",
              "Total night calls          120\n",
              "Total night charge         933\n",
              "Total intl minutes         162\n",
              "Total intl calls            21\n",
              "Total intl charge          162\n",
              "Customer service calls      10\n",
              "Churn                        2\n",
              "dtype: int64"
            ]
          },
          "metadata": {},
          "execution_count": 10
        }
      ]
    },
    {
      "cell_type": "code",
      "source": [
        "#Looking for the description of the dataset to get insights of the data\n",
        "telecom_df.describe(include='all')"
      ],
      "metadata": {
        "colab": {
          "base_uri": "https://localhost:8080/",
          "height": 493
        },
        "id": "1FMuVnOmYlUv",
        "outputId": "ccba9e24-870d-4c18-9bf8-6f8beb9e64d6"
      },
      "execution_count": 11,
      "outputs": [
        {
          "output_type": "execute_result",
          "data": {
            "text/plain": [
              "       State  Account length    Area code International plan Voice mail plan  \\\n",
              "count   3333     3333.000000  3333.000000               3333            3333   \n",
              "unique    51             NaN          NaN                  2               2   \n",
              "top       WV             NaN          NaN                 No              No   \n",
              "freq     106             NaN          NaN               3010            2411   \n",
              "mean     NaN      101.064806   437.182418                NaN             NaN   \n",
              "std      NaN       39.822106    42.371290                NaN             NaN   \n",
              "min      NaN        1.000000   408.000000                NaN             NaN   \n",
              "25%      NaN       74.000000   408.000000                NaN             NaN   \n",
              "50%      NaN      101.000000   415.000000                NaN             NaN   \n",
              "75%      NaN      127.000000   510.000000                NaN             NaN   \n",
              "max      NaN      243.000000   510.000000                NaN             NaN   \n",
              "\n",
              "        Number vmail messages  Total day minutes  Total day calls  \\\n",
              "count             3333.000000        3333.000000      3333.000000   \n",
              "unique                    NaN                NaN              NaN   \n",
              "top                       NaN                NaN              NaN   \n",
              "freq                      NaN                NaN              NaN   \n",
              "mean                 8.099010         179.775098       100.435644   \n",
              "std                 13.688365          54.467389        20.069084   \n",
              "min                  0.000000           0.000000         0.000000   \n",
              "25%                  0.000000         143.700000        87.000000   \n",
              "50%                  0.000000         179.400000       101.000000   \n",
              "75%                 20.000000         216.400000       114.000000   \n",
              "max                 51.000000         350.800000       165.000000   \n",
              "\n",
              "        Total day charge  Total eve minutes  Total eve calls  \\\n",
              "count        3333.000000        3333.000000      3333.000000   \n",
              "unique               NaN                NaN              NaN   \n",
              "top                  NaN                NaN              NaN   \n",
              "freq                 NaN                NaN              NaN   \n",
              "mean           30.562307         200.980348       100.114311   \n",
              "std             9.259435          50.713844        19.922625   \n",
              "min             0.000000           0.000000         0.000000   \n",
              "25%            24.430000         166.600000        87.000000   \n",
              "50%            30.500000         201.400000       100.000000   \n",
              "75%            36.790000         235.300000       114.000000   \n",
              "max            59.640000         363.700000       170.000000   \n",
              "\n",
              "        Total eve charge  Total night minutes  Total night calls  \\\n",
              "count        3333.000000          3333.000000        3333.000000   \n",
              "unique               NaN                  NaN                NaN   \n",
              "top                  NaN                  NaN                NaN   \n",
              "freq                 NaN                  NaN                NaN   \n",
              "mean           17.083540           200.872037         100.107711   \n",
              "std             4.310668            50.573847          19.568609   \n",
              "min             0.000000            23.200000          33.000000   \n",
              "25%            14.160000           167.000000          87.000000   \n",
              "50%            17.120000           201.200000         100.000000   \n",
              "75%            20.000000           235.300000         113.000000   \n",
              "max            30.910000           395.000000         175.000000   \n",
              "\n",
              "        Total night charge  Total intl minutes  Total intl calls  \\\n",
              "count          3333.000000         3333.000000       3333.000000   \n",
              "unique                 NaN                 NaN               NaN   \n",
              "top                    NaN                 NaN               NaN   \n",
              "freq                   NaN                 NaN               NaN   \n",
              "mean              9.039325           10.237294          4.479448   \n",
              "std               2.275873            2.791840          2.461214   \n",
              "min               1.040000            0.000000          0.000000   \n",
              "25%               7.520000            8.500000          3.000000   \n",
              "50%               9.050000           10.300000          4.000000   \n",
              "75%              10.590000           12.100000          6.000000   \n",
              "max              17.770000           20.000000         20.000000   \n",
              "\n",
              "        Total intl charge  Customer service calls  Churn  \n",
              "count         3333.000000             3333.000000   3333  \n",
              "unique                NaN                     NaN      2  \n",
              "top                   NaN                     NaN  False  \n",
              "freq                  NaN                     NaN   2850  \n",
              "mean             2.764581                1.562856    NaN  \n",
              "std              0.753773                1.315491    NaN  \n",
              "min              0.000000                0.000000    NaN  \n",
              "25%              2.300000                1.000000    NaN  \n",
              "50%              2.780000                1.000000    NaN  \n",
              "75%              3.270000                2.000000    NaN  \n",
              "max              5.400000                9.000000    NaN  "
            ],
            "text/html": [
              "\n",
              "  <div id=\"df-14912a4e-12d1-48f8-8414-442ca6feca07\">\n",
              "    <div class=\"colab-df-container\">\n",
              "      <div>\n",
              "<style scoped>\n",
              "    .dataframe tbody tr th:only-of-type {\n",
              "        vertical-align: middle;\n",
              "    }\n",
              "\n",
              "    .dataframe tbody tr th {\n",
              "        vertical-align: top;\n",
              "    }\n",
              "\n",
              "    .dataframe thead th {\n",
              "        text-align: right;\n",
              "    }\n",
              "</style>\n",
              "<table border=\"1\" class=\"dataframe\">\n",
              "  <thead>\n",
              "    <tr style=\"text-align: right;\">\n",
              "      <th></th>\n",
              "      <th>State</th>\n",
              "      <th>Account length</th>\n",
              "      <th>Area code</th>\n",
              "      <th>International plan</th>\n",
              "      <th>Voice mail plan</th>\n",
              "      <th>Number vmail messages</th>\n",
              "      <th>Total day minutes</th>\n",
              "      <th>Total day calls</th>\n",
              "      <th>Total day charge</th>\n",
              "      <th>Total eve minutes</th>\n",
              "      <th>Total eve calls</th>\n",
              "      <th>Total eve charge</th>\n",
              "      <th>Total night minutes</th>\n",
              "      <th>Total night calls</th>\n",
              "      <th>Total night charge</th>\n",
              "      <th>Total intl minutes</th>\n",
              "      <th>Total intl calls</th>\n",
              "      <th>Total intl charge</th>\n",
              "      <th>Customer service calls</th>\n",
              "      <th>Churn</th>\n",
              "    </tr>\n",
              "  </thead>\n",
              "  <tbody>\n",
              "    <tr>\n",
              "      <th>count</th>\n",
              "      <td>3333</td>\n",
              "      <td>3333.000000</td>\n",
              "      <td>3333.000000</td>\n",
              "      <td>3333</td>\n",
              "      <td>3333</td>\n",
              "      <td>3333.000000</td>\n",
              "      <td>3333.000000</td>\n",
              "      <td>3333.000000</td>\n",
              "      <td>3333.000000</td>\n",
              "      <td>3333.000000</td>\n",
              "      <td>3333.000000</td>\n",
              "      <td>3333.000000</td>\n",
              "      <td>3333.000000</td>\n",
              "      <td>3333.000000</td>\n",
              "      <td>3333.000000</td>\n",
              "      <td>3333.000000</td>\n",
              "      <td>3333.000000</td>\n",
              "      <td>3333.000000</td>\n",
              "      <td>3333.000000</td>\n",
              "      <td>3333</td>\n",
              "    </tr>\n",
              "    <tr>\n",
              "      <th>unique</th>\n",
              "      <td>51</td>\n",
              "      <td>NaN</td>\n",
              "      <td>NaN</td>\n",
              "      <td>2</td>\n",
              "      <td>2</td>\n",
              "      <td>NaN</td>\n",
              "      <td>NaN</td>\n",
              "      <td>NaN</td>\n",
              "      <td>NaN</td>\n",
              "      <td>NaN</td>\n",
              "      <td>NaN</td>\n",
              "      <td>NaN</td>\n",
              "      <td>NaN</td>\n",
              "      <td>NaN</td>\n",
              "      <td>NaN</td>\n",
              "      <td>NaN</td>\n",
              "      <td>NaN</td>\n",
              "      <td>NaN</td>\n",
              "      <td>NaN</td>\n",
              "      <td>2</td>\n",
              "    </tr>\n",
              "    <tr>\n",
              "      <th>top</th>\n",
              "      <td>WV</td>\n",
              "      <td>NaN</td>\n",
              "      <td>NaN</td>\n",
              "      <td>No</td>\n",
              "      <td>No</td>\n",
              "      <td>NaN</td>\n",
              "      <td>NaN</td>\n",
              "      <td>NaN</td>\n",
              "      <td>NaN</td>\n",
              "      <td>NaN</td>\n",
              "      <td>NaN</td>\n",
              "      <td>NaN</td>\n",
              "      <td>NaN</td>\n",
              "      <td>NaN</td>\n",
              "      <td>NaN</td>\n",
              "      <td>NaN</td>\n",
              "      <td>NaN</td>\n",
              "      <td>NaN</td>\n",
              "      <td>NaN</td>\n",
              "      <td>False</td>\n",
              "    </tr>\n",
              "    <tr>\n",
              "      <th>freq</th>\n",
              "      <td>106</td>\n",
              "      <td>NaN</td>\n",
              "      <td>NaN</td>\n",
              "      <td>3010</td>\n",
              "      <td>2411</td>\n",
              "      <td>NaN</td>\n",
              "      <td>NaN</td>\n",
              "      <td>NaN</td>\n",
              "      <td>NaN</td>\n",
              "      <td>NaN</td>\n",
              "      <td>NaN</td>\n",
              "      <td>NaN</td>\n",
              "      <td>NaN</td>\n",
              "      <td>NaN</td>\n",
              "      <td>NaN</td>\n",
              "      <td>NaN</td>\n",
              "      <td>NaN</td>\n",
              "      <td>NaN</td>\n",
              "      <td>NaN</td>\n",
              "      <td>2850</td>\n",
              "    </tr>\n",
              "    <tr>\n",
              "      <th>mean</th>\n",
              "      <td>NaN</td>\n",
              "      <td>101.064806</td>\n",
              "      <td>437.182418</td>\n",
              "      <td>NaN</td>\n",
              "      <td>NaN</td>\n",
              "      <td>8.099010</td>\n",
              "      <td>179.775098</td>\n",
              "      <td>100.435644</td>\n",
              "      <td>30.562307</td>\n",
              "      <td>200.980348</td>\n",
              "      <td>100.114311</td>\n",
              "      <td>17.083540</td>\n",
              "      <td>200.872037</td>\n",
              "      <td>100.107711</td>\n",
              "      <td>9.039325</td>\n",
              "      <td>10.237294</td>\n",
              "      <td>4.479448</td>\n",
              "      <td>2.764581</td>\n",
              "      <td>1.562856</td>\n",
              "      <td>NaN</td>\n",
              "    </tr>\n",
              "    <tr>\n",
              "      <th>std</th>\n",
              "      <td>NaN</td>\n",
              "      <td>39.822106</td>\n",
              "      <td>42.371290</td>\n",
              "      <td>NaN</td>\n",
              "      <td>NaN</td>\n",
              "      <td>13.688365</td>\n",
              "      <td>54.467389</td>\n",
              "      <td>20.069084</td>\n",
              "      <td>9.259435</td>\n",
              "      <td>50.713844</td>\n",
              "      <td>19.922625</td>\n",
              "      <td>4.310668</td>\n",
              "      <td>50.573847</td>\n",
              "      <td>19.568609</td>\n",
              "      <td>2.275873</td>\n",
              "      <td>2.791840</td>\n",
              "      <td>2.461214</td>\n",
              "      <td>0.753773</td>\n",
              "      <td>1.315491</td>\n",
              "      <td>NaN</td>\n",
              "    </tr>\n",
              "    <tr>\n",
              "      <th>min</th>\n",
              "      <td>NaN</td>\n",
              "      <td>1.000000</td>\n",
              "      <td>408.000000</td>\n",
              "      <td>NaN</td>\n",
              "      <td>NaN</td>\n",
              "      <td>0.000000</td>\n",
              "      <td>0.000000</td>\n",
              "      <td>0.000000</td>\n",
              "      <td>0.000000</td>\n",
              "      <td>0.000000</td>\n",
              "      <td>0.000000</td>\n",
              "      <td>0.000000</td>\n",
              "      <td>23.200000</td>\n",
              "      <td>33.000000</td>\n",
              "      <td>1.040000</td>\n",
              "      <td>0.000000</td>\n",
              "      <td>0.000000</td>\n",
              "      <td>0.000000</td>\n",
              "      <td>0.000000</td>\n",
              "      <td>NaN</td>\n",
              "    </tr>\n",
              "    <tr>\n",
              "      <th>25%</th>\n",
              "      <td>NaN</td>\n",
              "      <td>74.000000</td>\n",
              "      <td>408.000000</td>\n",
              "      <td>NaN</td>\n",
              "      <td>NaN</td>\n",
              "      <td>0.000000</td>\n",
              "      <td>143.700000</td>\n",
              "      <td>87.000000</td>\n",
              "      <td>24.430000</td>\n",
              "      <td>166.600000</td>\n",
              "      <td>87.000000</td>\n",
              "      <td>14.160000</td>\n",
              "      <td>167.000000</td>\n",
              "      <td>87.000000</td>\n",
              "      <td>7.520000</td>\n",
              "      <td>8.500000</td>\n",
              "      <td>3.000000</td>\n",
              "      <td>2.300000</td>\n",
              "      <td>1.000000</td>\n",
              "      <td>NaN</td>\n",
              "    </tr>\n",
              "    <tr>\n",
              "      <th>50%</th>\n",
              "      <td>NaN</td>\n",
              "      <td>101.000000</td>\n",
              "      <td>415.000000</td>\n",
              "      <td>NaN</td>\n",
              "      <td>NaN</td>\n",
              "      <td>0.000000</td>\n",
              "      <td>179.400000</td>\n",
              "      <td>101.000000</td>\n",
              "      <td>30.500000</td>\n",
              "      <td>201.400000</td>\n",
              "      <td>100.000000</td>\n",
              "      <td>17.120000</td>\n",
              "      <td>201.200000</td>\n",
              "      <td>100.000000</td>\n",
              "      <td>9.050000</td>\n",
              "      <td>10.300000</td>\n",
              "      <td>4.000000</td>\n",
              "      <td>2.780000</td>\n",
              "      <td>1.000000</td>\n",
              "      <td>NaN</td>\n",
              "    </tr>\n",
              "    <tr>\n",
              "      <th>75%</th>\n",
              "      <td>NaN</td>\n",
              "      <td>127.000000</td>\n",
              "      <td>510.000000</td>\n",
              "      <td>NaN</td>\n",
              "      <td>NaN</td>\n",
              "      <td>20.000000</td>\n",
              "      <td>216.400000</td>\n",
              "      <td>114.000000</td>\n",
              "      <td>36.790000</td>\n",
              "      <td>235.300000</td>\n",
              "      <td>114.000000</td>\n",
              "      <td>20.000000</td>\n",
              "      <td>235.300000</td>\n",
              "      <td>113.000000</td>\n",
              "      <td>10.590000</td>\n",
              "      <td>12.100000</td>\n",
              "      <td>6.000000</td>\n",
              "      <td>3.270000</td>\n",
              "      <td>2.000000</td>\n",
              "      <td>NaN</td>\n",
              "    </tr>\n",
              "    <tr>\n",
              "      <th>max</th>\n",
              "      <td>NaN</td>\n",
              "      <td>243.000000</td>\n",
              "      <td>510.000000</td>\n",
              "      <td>NaN</td>\n",
              "      <td>NaN</td>\n",
              "      <td>51.000000</td>\n",
              "      <td>350.800000</td>\n",
              "      <td>165.000000</td>\n",
              "      <td>59.640000</td>\n",
              "      <td>363.700000</td>\n",
              "      <td>170.000000</td>\n",
              "      <td>30.910000</td>\n",
              "      <td>395.000000</td>\n",
              "      <td>175.000000</td>\n",
              "      <td>17.770000</td>\n",
              "      <td>20.000000</td>\n",
              "      <td>20.000000</td>\n",
              "      <td>5.400000</td>\n",
              "      <td>9.000000</td>\n",
              "      <td>NaN</td>\n",
              "    </tr>\n",
              "  </tbody>\n",
              "</table>\n",
              "</div>\n",
              "      <button class=\"colab-df-convert\" onclick=\"convertToInteractive('df-14912a4e-12d1-48f8-8414-442ca6feca07')\"\n",
              "              title=\"Convert this dataframe to an interactive table.\"\n",
              "              style=\"display:none;\">\n",
              "        \n",
              "  <svg xmlns=\"http://www.w3.org/2000/svg\" height=\"24px\"viewBox=\"0 0 24 24\"\n",
              "       width=\"24px\">\n",
              "    <path d=\"M0 0h24v24H0V0z\" fill=\"none\"/>\n",
              "    <path d=\"M18.56 5.44l.94 2.06.94-2.06 2.06-.94-2.06-.94-.94-2.06-.94 2.06-2.06.94zm-11 1L8.5 8.5l.94-2.06 2.06-.94-2.06-.94L8.5 2.5l-.94 2.06-2.06.94zm10 10l.94 2.06.94-2.06 2.06-.94-2.06-.94-.94-2.06-.94 2.06-2.06.94z\"/><path d=\"M17.41 7.96l-1.37-1.37c-.4-.4-.92-.59-1.43-.59-.52 0-1.04.2-1.43.59L10.3 9.45l-7.72 7.72c-.78.78-.78 2.05 0 2.83L4 21.41c.39.39.9.59 1.41.59.51 0 1.02-.2 1.41-.59l7.78-7.78 2.81-2.81c.8-.78.8-2.07 0-2.86zM5.41 20L4 18.59l7.72-7.72 1.47 1.35L5.41 20z\"/>\n",
              "  </svg>\n",
              "      </button>\n",
              "      \n",
              "  <style>\n",
              "    .colab-df-container {\n",
              "      display:flex;\n",
              "      flex-wrap:wrap;\n",
              "      gap: 12px;\n",
              "    }\n",
              "\n",
              "    .colab-df-convert {\n",
              "      background-color: #E8F0FE;\n",
              "      border: none;\n",
              "      border-radius: 50%;\n",
              "      cursor: pointer;\n",
              "      display: none;\n",
              "      fill: #1967D2;\n",
              "      height: 32px;\n",
              "      padding: 0 0 0 0;\n",
              "      width: 32px;\n",
              "    }\n",
              "\n",
              "    .colab-df-convert:hover {\n",
              "      background-color: #E2EBFA;\n",
              "      box-shadow: 0px 1px 2px rgba(60, 64, 67, 0.3), 0px 1px 3px 1px rgba(60, 64, 67, 0.15);\n",
              "      fill: #174EA6;\n",
              "    }\n",
              "\n",
              "    [theme=dark] .colab-df-convert {\n",
              "      background-color: #3B4455;\n",
              "      fill: #D2E3FC;\n",
              "    }\n",
              "\n",
              "    [theme=dark] .colab-df-convert:hover {\n",
              "      background-color: #434B5C;\n",
              "      box-shadow: 0px 1px 3px 1px rgba(0, 0, 0, 0.15);\n",
              "      filter: drop-shadow(0px 1px 2px rgba(0, 0, 0, 0.3));\n",
              "      fill: #FFFFFF;\n",
              "    }\n",
              "  </style>\n",
              "\n",
              "      <script>\n",
              "        const buttonEl =\n",
              "          document.querySelector('#df-14912a4e-12d1-48f8-8414-442ca6feca07 button.colab-df-convert');\n",
              "        buttonEl.style.display =\n",
              "          google.colab.kernel.accessAllowed ? 'block' : 'none';\n",
              "\n",
              "        async function convertToInteractive(key) {\n",
              "          const element = document.querySelector('#df-14912a4e-12d1-48f8-8414-442ca6feca07');\n",
              "          const dataTable =\n",
              "            await google.colab.kernel.invokeFunction('convertToInteractive',\n",
              "                                                     [key], {});\n",
              "          if (!dataTable) return;\n",
              "\n",
              "          const docLinkHtml = 'Like what you see? Visit the ' +\n",
              "            '<a target=\"_blank\" href=https://colab.research.google.com/notebooks/data_table.ipynb>data table notebook</a>'\n",
              "            + ' to learn more about interactive tables.';\n",
              "          element.innerHTML = '';\n",
              "          dataTable['output_type'] = 'display_data';\n",
              "          await google.colab.output.renderOutput(dataTable, element);\n",
              "          const docLink = document.createElement('div');\n",
              "          docLink.innerHTML = docLinkHtml;\n",
              "          element.appendChild(docLink);\n",
              "        }\n",
              "      </script>\n",
              "    </div>\n",
              "  </div>\n",
              "  "
            ]
          },
          "metadata": {},
          "execution_count": 11
        }
      ]
    },
    {
      "cell_type": "code",
      "source": [
        "#Printing the count of true and false in 'churn' feature\n",
        "print(telecom_df.Churn.value_counts())"
      ],
      "metadata": {
        "colab": {
          "base_uri": "https://localhost:8080/"
        },
        "id": "_TnRD7HCYpN3",
        "outputId": "4f22e862-a23d-4984-9d4d-58af491c83bc"
      },
      "execution_count": 12,
      "outputs": [
        {
          "output_type": "stream",
          "name": "stdout",
          "text": [
            "False    2850\n",
            "True      483\n",
            "Name: Churn, dtype: int64\n"
          ]
        }
      ]
    },
    {
      "cell_type": "code",
      "source": [
        "#check for count of missing values in each column.\n",
        "telecom_df.isna().sum()\n",
        "telecom_df.isnull().sum()\n",
        "#as we see there are no missing values present in nay column."
      ],
      "metadata": {
        "colab": {
          "base_uri": "https://localhost:8080/"
        },
        "id": "lQc6xo55YuXP",
        "outputId": "2ac8d9a7-46f1-4f2a-87e7-1fc75746124f"
      },
      "execution_count": 13,
      "outputs": [
        {
          "output_type": "execute_result",
          "data": {
            "text/plain": [
              "State                     0\n",
              "Account length            0\n",
              "Area code                 0\n",
              "International plan        0\n",
              "Voice mail plan           0\n",
              "Number vmail messages     0\n",
              "Total day minutes         0\n",
              "Total day calls           0\n",
              "Total day charge          0\n",
              "Total eve minutes         0\n",
              "Total eve calls           0\n",
              "Total eve charge          0\n",
              "Total night minutes       0\n",
              "Total night calls         0\n",
              "Total night charge        0\n",
              "Total intl minutes        0\n",
              "Total intl calls          0\n",
              "Total intl charge         0\n",
              "Customer service calls    0\n",
              "Churn                     0\n",
              "dtype: int64"
            ]
          },
          "metadata": {},
          "execution_count": 13
        }
      ]
    },
    {
      "cell_type": "code",
      "source": [
        "missing = pd.DataFrame((telecom_df.isnull().sum())*100/telecom_df.shape[0]).reset_index()\n",
        "plt.figure(figsize=(16,5))\n",
        "ax = sns.pointplot('index',0,data=missing)\n",
        "plt.xticks(rotation =90,fontsize =7)\n",
        "plt.title(\"Percentage of Missing values\")\n",
        "plt.ylabel(\"PERCENTAGE\")\n",
        "plt.show()"
      ],
      "metadata": {
        "colab": {
          "base_uri": "https://localhost:8080/",
          "height": 481
        },
        "id": "yY-dC44hY0lT",
        "outputId": "c04f5a8e-1d85-41dc-ff94-48a39db5a10f"
      },
      "execution_count": 14,
      "outputs": [
        {
          "output_type": "stream",
          "name": "stderr",
          "text": [
            "/usr/local/lib/python3.8/dist-packages/seaborn/_decorators.py:36: FutureWarning: Pass the following variables as keyword args: x, y. From version 0.12, the only valid positional argument will be `data`, and passing other arguments without an explicit keyword will result in an error or misinterpretation.\n",
            "  warnings.warn(\n"
          ]
        },
        {
          "output_type": "display_data",
          "data": {
            "text/plain": [
              "<Figure size 1152x360 with 1 Axes>"
            ],
            "image/png": "[encoded data removed]"
          },
          "metadata": {
            "needs_background": "light"
          }
        }
      ]
    },
    {
      "cell_type": "code",
      "source": [
        "# Checking Duplicate Values\n",
        "len(telecom_df[telecom_df.duplicated()])"
      ],
      "metadata": {
        "colab": {
          "base_uri": "https://localhost:8080/"
        },
        "id": "Nn8f4svLY4kn",
        "outputId": "d125e1bc-a995-4d5e-d6f2-ae688a6c27fc"
      },
      "execution_count": 15,
      "outputs": [
        {
          "output_type": "execute_result",
          "data": {
            "text/plain": [
              "0"
            ]
          },
          "metadata": {},
          "execution_count": 15
        }
      ]
    },
    {
      "cell_type": "markdown",
      "source": [
        "***As of now There are 3333 rows and 20 columns in above dataset.***\n",
        "\n",
        "***out of which there are 1 boolean data type i.e churn***\n",
        "\n",
        "***8 float data type,**\n",
        "\n",
        "***8 integer data type,***\n",
        "\n",
        "***3 object data type i.e catagarical value are there.***\n",
        "\n",
        "***There are no missing value present so no need to do the missing value imputation,**\n",
        "\n",
        "***And also there are no duplicate value present**. "
      ],
      "metadata": {
        "id": "Rq_REft8ZoZ-"
      }
    },
    {
      "cell_type": "markdown",
      "source": [
        "## 3. ***Data Wrangling***"
      ],
      "metadata": {
        "id": "2KQBvBAwakIw"
      }
    },
    {
      "cell_type": "code",
      "source": [
        "#Printing the unique value inside \"churn\" column\n",
        "telecom_df[\"Churn\"].unique()"
      ],
      "metadata": {
        "colab": {
          "base_uri": "https://localhost:8080/"
        },
        "id": "7GN9hI7HamNA",
        "outputId": "4d7215d5-d285-41db-876e-9ed7af2989d7"
      },
      "execution_count": 16,
      "outputs": [
        {
          "output_type": "execute_result",
          "data": {
            "text/plain": [
              "array([False,  True])"
            ]
          },
          "metadata": {},
          "execution_count": 16
        }
      ]
    },
    {
      "cell_type": "code",
      "source": [
        "#Printing the count of true and false in 'churn' feature\n",
        "print(telecom_df.Churn.value_counts())"
      ],
      "metadata": {
        "colab": {
          "base_uri": "https://localhost:8080/"
        },
        "id": "8NK0nle0ayS5",
        "outputId": "962bddee-ced6-4b2d-a8a6-bf2628c2cf2a"
      },
      "execution_count": 18,
      "outputs": [
        {
          "output_type": "stream",
          "name": "stdout",
          "text": [
            "False    2850\n",
            "True      483\n",
            "Name: Churn, dtype: int64\n"
          ]
        }
      ]
    },
    {
      "cell_type": "code",
      "source": [
        "#To get the pie chart to analyze churn\n",
        "telecom_df ['Churn'].value_counts().plot.pie(explode=[0.05,0.05], autopct='%1.1f%%',  startangle=90,shadow=True, figsize=(8,8))\n",
        "plt.title('Pie Chart for Churn')\n",
        "plt.show() "
      ],
      "metadata": {
        "colab": {
          "base_uri": "https://localhost:8080/",
          "height": 482
        },
        "id": "k0upQP0aa2FT",
        "outputId": "06358200-26ab-4b69-ef59-a37554cc51a1"
      },
      "execution_count": 19,
      "outputs": [
        {
          "output_type": "display_data",
          "data": {
            "text/plain": [
              "<Figure size 576x576 with 1 Axes>"
            ],
            "image/png": "[encoded data removed]"
          },
          "metadata": {}
        }
      ]
    },
    {
      "cell_type": "code",
      "source": [
        "#let's see churn by using countplot\n",
        "sns.countplot(x=telecom_df.Churn)"
      ],
      "metadata": {
        "colab": {
          "base_uri": "https://localhost:8080/",
          "height": 296
        },
        "id": "f-B0brpQeZkc",
        "outputId": "f974e12b-3405-4885-c380-16d9a6e011c5"
      },
      "execution_count": 20,
      "outputs": [
        {
          "output_type": "execute_result",
          "data": {
            "text/plain": [
              "<AxesSubplot:xlabel='Churn', ylabel='count'>"
            ]
          },
          "metadata": {},
          "execution_count": 20
        },
        {
          "output_type": "display_data",
          "data": {
            "text/plain": [
              "<Figure size 432x288 with 1 Axes>"
            ],
            "image/png": "[encoded data removed]"
          },
          "metadata": {
            "needs_background": "light"
          }
        }
      ]
    },
    {
      "cell_type": "markdown",
      "source": [
        "**4. Data Vizualization, Storytelling & Experimenting with charts : Understand the relationships between variables**"
      ],
      "metadata": {
        "id": "tXWAfKsae3lx"
      }
    },
    {
      "cell_type": "code",
      "source": [
        "#printing the unique value of sate column\n",
        "telecom_df['State'].nunique()"
      ],
      "metadata": {
        "colab": {
          "base_uri": "https://localhost:8080/"
        },
        "id": "klrpR1Wuet2j",
        "outputId": "b790ec75-510c-49ae-d36f-615ed13e1f04"
      },
      "execution_count": 21,
      "outputs": [
        {
          "output_type": "execute_result",
          "data": {
            "text/plain": [
              "51"
            ]
          },
          "metadata": {},
          "execution_count": 21
        }
      ]
    },
    {
      "cell_type": "code",
      "source": [
        "#Comparison churn with state by using countplot\n",
        "sns.set(style=\"darkgrid\")\n",
        "plt.figure(figsize=(15,8))\n",
        "ax = sns.countplot(x='State', hue=\"Churn\", data=telecom_df)\n",
        "plt.show()"
      ],
      "metadata": {
        "colab": {
          "base_uri": "https://localhost:8080/",
          "height": 503
        },
        "id": "SuQS_yC2feMu",
        "outputId": "572d352b-1cb1-45be-a9d1-1b936c64d81c"
      },
      "execution_count": 26,
      "outputs": [
        {
          "output_type": "display_data",
          "data": {
            "text/plain": [
              "<Figure size 1080x576 with 1 Axes>"
            ],
            "image/png": "[encoded data removed]"
          },
          "metadata": {}
        }
      ]
    },
    {
      "cell_type": "code",
      "source": [
        "s1=telecom_df['State'].unique()\n",
        "s2=telecom_df.groupby(['State'])['Churn'].mean()\n",
        "\n",
        "plt.rcParams['figure.figsize'] = (18, 7)\n",
        "\n",
        "plt.plot(s1,s2,color='b', marker='o', linewidth=2, markersize=12)\n",
        "\n",
        "plt.title(\" States churn rate\", fontsize = 20)\n",
        "plt.xlabel('state', fontsize = 15)\n",
        "plt.ylabel('churn rate', fontsize = 15)\n",
        "plt.show()"
      ],
      "metadata": {
        "colab": {
          "base_uri": "https://localhost:8080/",
          "height": 471
        },
        "id": "8IzRG1gOgQIS",
        "outputId": "5859c386-374d-4919-a71d-1efeac7402aa"
      },
      "execution_count": 28,
      "outputs": [
        {
          "output_type": "display_data",
          "data": {
            "text/plain": [
              "<Figure size 1296x504 with 1 Axes>"
            ],
            "image/png": "[encoded data removed]"
          },
          "metadata": {}
        }
      ]
    },
    {
      "cell_type": "code",
      "source": [
        "plt.rcParams['figure.figsize'] = (12, 7)\n",
        "color = plt.cm.copper(np.linspace(0, 0.5, 20))\n",
        "((telecom_df.groupby(['State'])['Churn'].mean())*100).sort_values(ascending = False).head(6).plot.bar(color = ['violet','indigo','b','g','y','orange','r'])\n",
        "plt.title(\" State with most churn percentage\", fontsize = 20)\n",
        "plt.xlabel('state', fontsize = 15)\n",
        "plt.ylabel('percentage', fontsize = 15)\n",
        "plt.show()"
      ],
      "metadata": {
        "colab": {
          "base_uri": "https://localhost:8080/",
          "height": 479
        },
        "id": "djfe4VvUgmu2",
        "outputId": "92f923f8-b59b-406c-91a9-5593ddd38ea0"
      },
      "execution_count": 29,
      "outputs": [
        {
          "output_type": "display_data",
          "data": {
            "text/plain": [
              "<Figure size 864x504 with 1 Axes>"
            ],
            "image/png": "[encoded data removed]"
          },
          "metadata": {}
        }
      ]
    },
    {
      "cell_type": "code",
      "source": [
        "#calculate State vs Churn percentage\n",
        "State_data = pd.crosstab(telecom_df[\"State\"],telecom_df[\"Churn\"])\n",
        "State_data['Percentage_Churn'] = State_data.apply(lambda x : x[1]*100/(x[0]+x[1]),axis = 1)\n",
        "print(State_data)"
      ],
      "metadata": {
        "colab": {
          "base_uri": "https://localhost:8080/"
        },
        "id": "GIe6EyYLgqdb",
        "outputId": "56a0a32e-1898-43e5-8c6d-a067d71827ec"
      },
      "execution_count": 30,
      "outputs": [
        {
          "output_type": "stream",
          "name": "stdout",
          "text": [
            "Churn  False  True  Percentage_Churn\n",
            "State                               \n",
            "AK        49     3          5.769231\n",
            "AL        72     8         10.000000\n",
            "AR        44    11         20.000000\n",
            "AZ        60     4          6.250000\n",
            "CA        25     9         26.470588\n",
            "CO        57     9         13.636364\n",
            "CT        62    12         16.216216\n",
            "DC        49     5          9.259259\n",
            "DE        52     9         14.754098\n",
            "FL        55     8         12.698413\n",
            "GA        46     8         14.814815\n",
            "HI        50     3          5.660377\n",
            "IA        41     3          6.818182\n",
            "ID        64     9         12.328767\n",
            "IL        53     5          8.620690\n",
            "IN        62     9         12.676056\n",
            "KS        57    13         18.571429\n",
            "KY        51     8         13.559322\n",
            "LA        47     4          7.843137\n",
            "MA        54    11         16.923077\n",
            "MD        53    17         24.285714\n",
            "ME        49    13         20.967742\n",
            "MI        57    16         21.917808\n",
            "MN        69    15         17.857143\n",
            "MO        56     7         11.111111\n",
            "MS        51    14         21.538462\n",
            "MT        54    14         20.588235\n",
            "NC        57    11         16.176471\n",
            "ND        56     6          9.677419\n",
            "NE        56     5          8.196721\n",
            "NH        47     9         16.071429\n",
            "NJ        50    18         26.470588\n",
            "NM        56     6          9.677419\n",
            "NV        52    14         21.212121\n",
            "NY        68    15         18.072289\n",
            "OH        68    10         12.820513\n",
            "OK        52     9         14.754098\n",
            "OR        67    11         14.102564\n",
            "PA        37     8         17.777778\n",
            "RI        59     6          9.230769\n",
            "SC        46    14         23.333333\n",
            "SD        52     8         13.333333\n",
            "TN        48     5          9.433962\n",
            "TX        54    18         25.000000\n",
            "UT        62    10         13.888889\n",
            "VA        72     5          6.493506\n",
            "VT        65     8         10.958904\n",
            "WA        52    14         21.212121\n",
            "WI        71     7          8.974359\n",
            "WV        96    10          9.433962\n",
            "WY        68     9         11.688312\n"
          ]
        }
      ]
    },
    {
      "cell_type": "code",
      "source": [
        "#show the most churn state of top 10 by ascending the above list\n",
        "telecom_df.groupby(['State'])['Churn'].mean().sort_values(ascending = False).head(10)"
      ],
      "metadata": {
        "colab": {
          "base_uri": "https://localhost:8080/"
        },
        "id": "XF38vU-0g7iP",
        "outputId": "9fd6939d-d4f8-4500-ee77-8f81a035b577"
      },
      "execution_count": 31,
      "outputs": [
        {
          "output_type": "execute_result",
          "data": {
            "text/plain": [
              "State\n",
              "NJ    0.264706\n",
              "CA    0.264706\n",
              "TX    0.250000\n",
              "MD    0.242857\n",
              "SC    0.233333\n",
              "MI    0.219178\n",
              "MS    0.215385\n",
              "NV    0.212121\n",
              "WA    0.212121\n",
              "ME    0.209677\n",
              "Name: Churn, dtype: float64"
            ]
          },
          "metadata": {},
          "execution_count": 31
        }
      ]
    },
    {
      "cell_type": "markdown",
      "source": [
        "**There is 51 unique state present who have different churn rate.**\n",
        "\n",
        "**From the above analysis CA, NJ, TX, MD, SC, MI are the ones who have a higher churn rate of more than 21.**\n",
        "\n",
        "**The reason for this churn rate from a particular state may be due to the low coverage of the cellular network.**"
      ],
      "metadata": {
        "id": "rSW_LMqHhC1l"
      }
    },
    {
      "cell_type": "markdown",
      "source": [
        "**Analyzing \"Area Code\" column**"
      ],
      "metadata": {
        "id": "us9NkTOshRbk"
      }
    },
    {
      "cell_type": "code",
      "source": [
        "#calculate Area code vs Churn percentage\n",
        "Area_code_data = pd.crosstab(telecom_df[\"Area code\"],telecom_df[\"Churn\"])\n",
        "Area_code_data['Percentage_Churn'] = Area_code_data.apply(lambda x : x[1]*100/(x[0]+x[1]),axis = 1)\n",
        "print(Area_code_data)"
      ],
      "metadata": {
        "colab": {
          "base_uri": "https://localhost:8080/"
        },
        "id": "3jJX2fwghKJG",
        "outputId": "640e1ee2-931d-432e-e54b-aaed55f89399"
      },
      "execution_count": 32,
      "outputs": [
        {
          "output_type": "stream",
          "name": "stdout",
          "text": [
            "Churn      False  True  Percentage_Churn\n",
            "Area code                               \n",
            "408          716   122         14.558473\n",
            "415         1419   236         14.259819\n",
            "510          715   125         14.880952\n"
          ]
        }
      ]
    },
    {
      "cell_type": "code",
      "source": [
        "sns.set(style=\"darkgrid\")\n",
        "ax = sns.countplot(x='Area code', hue=\"Churn\", data=telecom_df)\n",
        "plt.show()"
      ],
      "metadata": {
        "colab": {
          "base_uri": "https://localhost:8080/",
          "height": 448
        },
        "id": "QQJ9i5aghbts",
        "outputId": "9044237e-3978-47f9-fa9b-adfa982d1c16"
      },
      "execution_count": 33,
      "outputs": [
        {
          "output_type": "display_data",
          "data": {
            "text/plain": [
              "<Figure size 864x504 with 1 Axes>"
            ],
            "image/png": "[encoded data removed]"
          },
          "metadata": {}
        }
      ]
    },
    {
      "cell_type": "markdown",
      "source": [
        "*   **In the above data, we notice that there is only 3 unique value are there i.e408,415,510 and the churn rate of these area codes are almost same.**\n",
        "*   **we don't think there is any kind of relation present between the \"area code\" and\"churn\" due to which the customer leaves the operator.**"
      ],
      "metadata": {
        "id": "OXb6It9BhiTw"
      }
    },
    {
      "cell_type": "markdown",
      "source": [
        "**Analyzing \"Account Length\" column**"
      ],
      "metadata": {
        "id": "37VNrJsRh7UG"
      }
    },
    {
      "cell_type": "code",
      "source": [
        "#Separating churn and non churn customers\n",
        "churn_df     = telecom_df[telecom_df[\"Churn\"] == bool(True)]\n",
        "not_churn_df = telecom_df[telecom_df[\"Churn\"] == bool(False)]"
      ],
      "metadata": {
        "id": "CJgGkNSvhfOv"
      },
      "execution_count": 34,
      "outputs": []
    },
    {
      "cell_type": "code",
      "source": [
        "telecom_df.head(2)"
      ],
      "metadata": {
        "colab": {
          "base_uri": "https://localhost:8080/",
          "height": 191
        },
        "id": "qVRfY4jXk0n0",
        "outputId": "c6289f7c-dd03-477a-9f5c-6313c1661fde"
      },
      "execution_count": 35,
      "outputs": [
        {
          "output_type": "execute_result",
          "data": {
            "text/plain": [
              "  State  Account length  Area code International plan Voice mail plan  \\\n",
              "0    KS             128        415                 No             Yes   \n",
              "1    OH             107        415                 No             Yes   \n",
              "\n",
              "   Number vmail messages  Total day minutes  Total day calls  \\\n",
              "0                     25              265.1              110   \n",
              "1                     26              161.6              123   \n",
              "\n",
              "   Total day charge  Total eve minutes  Total eve calls  Total eve charge  \\\n",
              "0             45.07              197.4               99             16.78   \n",
              "1             27.47              195.5              103             16.62   \n",
              "\n",
              "   Total night minutes  Total night calls  Total night charge  \\\n",
              "0                244.7                 91               11.01   \n",
              "1                254.4                103               11.45   \n",
              "\n",
              "   Total intl minutes  Total intl calls  Total intl charge  \\\n",
              "0                10.0                 3                2.7   \n",
              "1                13.7                 3                3.7   \n",
              "\n",
              "   Customer service calls  Churn  \n",
              "0                       1  False  \n",
              "1                       1  False  "
            ],
            "text/html": [
              "\n",
              "  <div id=\"df-f24f7a95-332f-41bd-a29c-a454bc5efcfc\">\n",
              "    <div class=\"colab-df-container\">\n",
              "      <div>\n",
              "<style scoped>\n",
              "    .dataframe tbody tr th:only-of-type {\n",
              "        vertical-align: middle;\n",
              "    }\n",
              "\n",
              "    .dataframe tbody tr th {\n",
              "        vertical-align: top;\n",
              "    }\n",
              "\n",
              "    .dataframe thead th {\n",
              "        text-align: right;\n",
              "    }\n",
              "</style>\n",
              "<table border=\"1\" class=\"dataframe\">\n",
              "  <thead>\n",
              "    <tr style=\"text-align: right;\">\n",
              "      <th></th>\n",
              "      <th>State</th>\n",
              "      <th>Account length</th>\n",
              "      <th>Area code</th>\n",
              "      <th>International plan</th>\n",
              "      <th>Voice mail plan</th>\n",
              "      <th>Number vmail messages</th>\n",
              "      <th>Total day minutes</th>\n",
              "      <th>Total day calls</th>\n",
              "      <th>Total day charge</th>\n",
              "      <th>Total eve minutes</th>\n",
              "      <th>Total eve calls</th>\n",
              "      <th>Total eve charge</th>\n",
              "      <th>Total night minutes</th>\n",
              "      <th>Total night calls</th>\n",
              "      <th>Total night charge</th>\n",
              "      <th>Total intl minutes</th>\n",
              "      <th>Total intl calls</th>\n",
              "      <th>Total intl charge</th>\n",
              "      <th>Customer service calls</th>\n",
              "      <th>Churn</th>\n",
              "    </tr>\n",
              "  </thead>\n",
              "  <tbody>\n",
              "    <tr>\n",
              "      <th>0</th>\n",
              "      <td>KS</td>\n",
              "      <td>128</td>\n",
              "      <td>415</td>\n",
              "      <td>No</td>\n",
              "      <td>Yes</td>\n",
              "      <td>25</td>\n",
              "      <td>265.1</td>\n",
              "      <td>110</td>\n",
              "      <td>45.07</td>\n",
              "      <td>197.4</td>\n",
              "      <td>99</td>\n",
              "      <td>16.78</td>\n",
              "      <td>244.7</td>\n",
              "      <td>91</td>\n",
              "      <td>11.01</td>\n",
              "      <td>10.0</td>\n",
              "      <td>3</td>\n",
              "      <td>2.7</td>\n",
              "      <td>1</td>\n",
              "      <td>False</td>\n",
              "    </tr>\n",
              "    <tr>\n",
              "      <th>1</th>\n",
              "      <td>OH</td>\n",
              "      <td>107</td>\n",
              "      <td>415</td>\n",
              "      <td>No</td>\n",
              "      <td>Yes</td>\n",
              "      <td>26</td>\n",
              "      <td>161.6</td>\n",
              "      <td>123</td>\n",
              "      <td>27.47</td>\n",
              "      <td>195.5</td>\n",
              "      <td>103</td>\n",
              "      <td>16.62</td>\n",
              "      <td>254.4</td>\n",
              "      <td>103</td>\n",
              "      <td>11.45</td>\n",
              "      <td>13.7</td>\n",
              "      <td>3</td>\n",
              "      <td>3.7</td>\n",
              "      <td>1</td>\n",
              "      <td>False</td>\n",
              "    </tr>\n",
              "  </tbody>\n",
              "</table>\n",
              "</div>\n",
              "      <button class=\"colab-df-convert\" onclick=\"convertToInteractive('df-f24f7a95-332f-41bd-a29c-a454bc5efcfc')\"\n",
              "              title=\"Convert this dataframe to an interactive table.\"\n",
              "              style=\"display:none;\">\n",
              "        \n",
              "  <svg xmlns=\"http://www.w3.org/2000/svg\" height=\"24px\"viewBox=\"0 0 24 24\"\n",
              "       width=\"24px\">\n",
              "    <path d=\"M0 0h24v24H0V0z\" fill=\"none\"/>\n",
              "    <path d=\"M18.56 5.44l.94 2.06.94-2.06 2.06-.94-2.06-.94-.94-2.06-.94 2.06-2.06.94zm-11 1L8.5 8.5l.94-2.06 2.06-.94-2.06-.94L8.5 2.5l-.94 2.06-2.06.94zm10 10l.94 2.06.94-2.06 2.06-.94-2.06-.94-.94-2.06-.94 2.06-2.06.94z\"/><path d=\"M17.41 7.96l-1.37-1.37c-.4-.4-.92-.59-1.43-.59-.52 0-1.04.2-1.43.59L10.3 9.45l-7.72 7.72c-.78.78-.78 2.05 0 2.83L4 21.41c.39.39.9.59 1.41.59.51 0 1.02-.2 1.41-.59l7.78-7.78 2.81-2.81c.8-.78.8-2.07 0-2.86zM5.41 20L4 18.59l7.72-7.72 1.47 1.35L5.41 20z\"/>\n",
              "  </svg>\n",
              "      </button>\n",
              "      \n",
              "  <style>\n",
              "    .colab-df-container {\n",
              "      display:flex;\n",
              "      flex-wrap:wrap;\n",
              "      gap: 12px;\n",
              "    }\n",
              "\n",
              "    .colab-df-convert {\n",
              "      background-color: #E8F0FE;\n",
              "      border: none;\n",
              "      border-radius: 50%;\n",
              "      cursor: pointer;\n",
              "      display: none;\n",
              "      fill: #1967D2;\n",
              "      height: 32px;\n",
              "      padding: 0 0 0 0;\n",
              "      width: 32px;\n",
              "    }\n",
              "\n",
              "    .colab-df-convert:hover {\n",
              "      background-color: #E2EBFA;\n",
              "      box-shadow: 0px 1px 2px rgba(60, 64, 67, 0.3), 0px 1px 3px 1px rgba(60, 64, 67, 0.15);\n",
              "      fill: #174EA6;\n",
              "    }\n",
              "\n",
              "    [theme=dark] .colab-df-convert {\n",
              "      background-color: #3B4455;\n",
              "      fill: #D2E3FC;\n",
              "    }\n",
              "\n",
              "    [theme=dark] .colab-df-convert:hover {\n",
              "      background-color: #434B5C;\n",
              "      box-shadow: 0px 1px 3px 1px rgba(0, 0, 0, 0.15);\n",
              "      filter: drop-shadow(0px 1px 2px rgba(0, 0, 0, 0.3));\n",
              "      fill: #FFFFFF;\n",
              "    }\n",
              "  </style>\n",
              "\n",
              "      <script>\n",
              "        const buttonEl =\n",
              "          document.querySelector('#df-f24f7a95-332f-41bd-a29c-a454bc5efcfc button.colab-df-convert');\n",
              "        buttonEl.style.display =\n",
              "          google.colab.kernel.accessAllowed ? 'block' : 'none';\n",
              "\n",
              "        async function convertToInteractive(key) {\n",
              "          const element = document.querySelector('#df-f24f7a95-332f-41bd-a29c-a454bc5efcfc');\n",
              "          const dataTable =\n",
              "            await google.colab.kernel.invokeFunction('convertToInteractive',\n",
              "                                                     [key], {});\n",
              "          if (!dataTable) return;\n",
              "\n",
              "          const docLinkHtml = 'Like what you see? Visit the ' +\n",
              "            '<a target=\"_blank\" href=https://colab.research.google.com/notebooks/data_table.ipynb>data table notebook</a>'\n",
              "            + ' to learn more about interactive tables.';\n",
              "          element.innerHTML = '';\n",
              "          dataTable['output_type'] = 'display_data';\n",
              "          await google.colab.output.renderOutput(dataTable, element);\n",
              "          const docLink = document.createElement('div');\n",
              "          docLink.innerHTML = docLinkHtml;\n",
              "          element.appendChild(docLink);\n",
              "        }\n",
              "      </script>\n",
              "    </div>\n",
              "  </div>\n",
              "  "
            ]
          },
          "metadata": {},
          "execution_count": 35
        }
      ]
    },
    {
      "cell_type": "code",
      "source": [
        "#Account length vs Churn\n",
        "sns.distplot(telecom_df['Account length'])"
      ],
      "metadata": {
        "colab": {
          "base_uri": "https://localhost:8080/",
          "height": 520
        },
        "id": "t-8jDdLPiTvP",
        "outputId": "d49e29e3-bd8c-4c15-b32d-8f89a63b1afd"
      },
      "execution_count": 36,
      "outputs": [
        {
          "output_type": "stream",
          "name": "stderr",
          "text": [
            "/usr/local/lib/python3.8/dist-packages/seaborn/distributions.py:2619: FutureWarning: `distplot` is a deprecated function and will be removed in a future version. Please adapt your code to use either `displot` (a figure-level function with similar flexibility) or `histplot` (an axes-level function for histograms).\n",
            "  warnings.warn(msg, FutureWarning)\n"
          ]
        },
        {
          "output_type": "execute_result",
          "data": {
            "text/plain": [
              "<AxesSubplot:xlabel='Account length', ylabel='Density'>"
            ]
          },
          "metadata": {},
          "execution_count": 36
        },
        {
          "output_type": "display_data",
          "data": {
            "text/plain": [
              "<Figure size 864x504 with 1 Axes>"
            ],
            "image/png": "[encoded data removed]"
          },
          "metadata": {}
        }
      ]
    },
    {
      "cell_type": "code",
      "source": [
        "#comparison of churned account length and not churned account length \n",
        "sns.distplot(telecom_df['Account length'],color = 'yellow',label=\"All\")\n",
        "sns.distplot(churn_df['Account length'],color = \"red\",hist=False,label=\"Churned\")\n",
        "sns.distplot(not_churn_df['Account length'],color = 'green',hist= False,label=\"Not churned\")\n",
        "plt.legend()"
      ],
      "metadata": {
        "colab": {
          "base_uri": "https://localhost:8080/",
          "height": 590
        },
        "id": "4fWfHkKxk_Z6",
        "outputId": "7646af57-3662-4871-d6e6-537bad22e0e9"
      },
      "execution_count": 37,
      "outputs": [
        {
          "output_type": "stream",
          "name": "stderr",
          "text": [
            "/usr/local/lib/python3.8/dist-packages/seaborn/distributions.py:2619: FutureWarning: `distplot` is a deprecated function and will be removed in a future version. Please adapt your code to use either `displot` (a figure-level function with similar flexibility) or `histplot` (an axes-level function for histograms).\n",
            "  warnings.warn(msg, FutureWarning)\n",
            "/usr/local/lib/python3.8/dist-packages/seaborn/distributions.py:2619: FutureWarning: `distplot` is a deprecated function and will be removed in a future version. Please adapt your code to use either `displot` (a figure-level function with similar flexibility) or `kdeplot` (an axes-level function for kernel density plots).\n",
            "  warnings.warn(msg, FutureWarning)\n",
            "/usr/local/lib/python3.8/dist-packages/seaborn/distributions.py:2619: FutureWarning: `distplot` is a deprecated function and will be removed in a future version. Please adapt your code to use either `displot` (a figure-level function with similar flexibility) or `kdeplot` (an axes-level function for kernel density plots).\n",
            "  warnings.warn(msg, FutureWarning)\n"
          ]
        },
        {
          "output_type": "execute_result",
          "data": {
            "text/plain": [
              "<matplotlib.legend.Legend at 0x7f451bc4b910>"
            ]
          },
          "metadata": {},
          "execution_count": 37
        },
        {
          "output_type": "display_data",
          "data": {
            "text/plain": [
              "<Figure size 864x504 with 1 Axes>"
            ],
            "image/png": "[encoded data removed]"
          },
          "metadata": {}
        }
      ]
    },
    {
      "cell_type": "markdown",
      "source": [
        "***After analyzing various aspects of the \"account length\" column we didn't found any useful relation to churn. so we aren't able to build any connection to the churn as of now. let's see what other features say about the churn.***"
      ],
      "metadata": {
        "id": "Zu0r61DGlT7K"
      }
    },
    {
      "cell_type": "markdown",
      "source": [
        "**Analyzing \"International Plan\" column**"
      ],
      "metadata": {
        "id": "RNcdAFpkoYZf"
      }
    },
    {
      "cell_type": "code",
      "source": [
        "#Show count value of 'yes','no'\n",
        "telecom_df['International plan'].value_counts()"
      ],
      "metadata": {
        "colab": {
          "base_uri": "https://localhost:8080/"
        },
        "id": "PAEiegGZoU9c",
        "outputId": "fb58217d-c721-4294-b78c-1ba9f1d9be47"
      },
      "execution_count": 39,
      "outputs": [
        {
          "output_type": "execute_result",
          "data": {
            "text/plain": [
              "No     3010\n",
              "Yes     323\n",
              "Name: International plan, dtype: int64"
            ]
          },
          "metadata": {},
          "execution_count": 39
        }
      ]
    },
    {
      "cell_type": "code",
      "source": [
        "#Show the unique data of \"International plan\"\n",
        "telecom_df[\"International plan\"].unique()"
      ],
      "metadata": {
        "colab": {
          "base_uri": "https://localhost:8080/"
        },
        "id": "n--687NyouCe",
        "outputId": "81d63afb-ad4b-44e4-eac6-160d2b1e95ef"
      },
      "execution_count": 40,
      "outputs": [
        {
          "output_type": "execute_result",
          "data": {
            "text/plain": [
              "array(['No', 'Yes'], dtype=object)"
            ]
          },
          "metadata": {},
          "execution_count": 40
        }
      ]
    },
    {
      "cell_type": "code",
      "source": [
        "#Calculate the International Plan vs Churn percentage \n",
        "International_plan_data = pd.crosstab(telecom_df[\"International plan\"],telecom_df[\"Churn\"])\n",
        "International_plan_data['Percentage Churn'] = International_plan_data.apply(lambda x : x[1]*100/(x[0]+x[1]),axis = 1)\n",
        "print(International_plan_data)"
      ],
      "metadata": {
        "colab": {
          "base_uri": "https://localhost:8080/"
        },
        "id": "Y4x0KdYXozyY",
        "outputId": "1ab3fcc2-b502-4441-f723-8fcd8bbfe103"
      },
      "execution_count": 41,
      "outputs": [
        {
          "output_type": "stream",
          "name": "stdout",
          "text": [
            "Churn               False  True  Percentage Churn\n",
            "International plan                               \n",
            "No                   2664   346         11.495017\n",
            "Yes                   186   137         42.414861\n"
          ]
        }
      ]
    },
    {
      "cell_type": "code",
      "source": [
        "#To get the Donut Plot to analyze International Plan\n",
        "data = telecom_df['International plan'].value_counts()\n",
        "explode = (0, 0.2)\n",
        "plt.pie(data, explode = explode,autopct='%1.1f%%',shadow=True,radius = 2.0, labels = ['No','Yes'],colors=['skyblue' ,'orange'])\n",
        "circle = plt.Circle( (0,0), 1, color='white')\n",
        "p=plt.gcf()\n",
        "p.gca().add_artist(circle)\n",
        "plt.title('Donut Plot for International plan')\n",
        "plt.show()"
      ],
      "metadata": {
        "colab": {
          "base_uri": "https://localhost:8080/",
          "height": 643
        },
        "id": "gGfJRQSRqjlJ",
        "outputId": "4c472414-4d33-4907-e3c9-9019f0f66d7b"
      },
      "execution_count": 43,
      "outputs": [
        {
          "output_type": "display_data",
          "data": {
            "text/plain": [
              "<Figure size 864x504 with 1 Axes>"
            ],
            "image/png": "[encoded data removed]"
          },
          "metadata": {}
        }
      ]
    },
    {
      "cell_type": "code",
      "source": [
        "sns.countplot(telecom_df['International plan'])"
      ],
      "metadata": {
        "colab": {
          "base_uri": "https://localhost:8080/",
          "height": 520
        },
        "id": "78IHSdpaq7KX",
        "outputId": "fc2400cf-1d1d-47b5-8e65-3fe0201322c1"
      },
      "execution_count": 45,
      "outputs": [
        {
          "output_type": "stream",
          "name": "stderr",
          "text": [
            "/usr/local/lib/python3.8/dist-packages/seaborn/_decorators.py:36: FutureWarning: Pass the following variable as a keyword arg: x. From version 0.12, the only valid positional argument will be `data`, and passing other arguments without an explicit keyword will result in an error or misinterpretation.\n",
            "  warnings.warn(\n"
          ]
        },
        {
          "output_type": "execute_result",
          "data": {
            "text/plain": [
              "<AxesSubplot:xlabel='International plan', ylabel='count'>"
            ]
          },
          "metadata": {},
          "execution_count": 45
        },
        {
          "output_type": "display_data",
          "data": {
            "text/plain": [
              "<Figure size 864x504 with 1 Axes>"
            ],
            "image/png": "[encoded data removed]"
          },
          "metadata": {}
        }
      ]
    },
    {
      "cell_type": "code",
      "source": [
        "#Analysing by using countplot\n",
        "sns.countplot(x='International plan',hue=\"Churn\",data = telecom_df)"
      ],
      "metadata": {
        "colab": {
          "base_uri": "https://localhost:8080/",
          "height": 465
        },
        "id": "RgD8vfD2pXvZ",
        "outputId": "11cc072f-c5ac-428f-b461-8470f938cb3b"
      },
      "execution_count": 44,
      "outputs": [
        {
          "output_type": "execute_result",
          "data": {
            "text/plain": [
              "<AxesSubplot:xlabel='International plan', ylabel='count'>"
            ]
          },
          "metadata": {},
          "execution_count": 44
        },
        {
          "output_type": "display_data",
          "data": {
            "text/plain": [
              "<Figure size 864x504 with 1 Axes>"
            ],
            "image/png": "[encoded data removed]"
          },
          "metadata": {}
        }
      ]
    },
    {
      "cell_type": "markdown",
      "source": [
        "**From the above data we get**\n",
        "\n",
        "**There are 3010 customers who dont have a international plan.**\n",
        "\n",
        "**There are 323 customers who have a international plan.**\n",
        "\n",
        "**Among those who have a international plan 42.4 % people churn.**\n",
        "\n",
        "**Whereas among those who dont have a international plan only 11.4 % people churn.**\n",
        "\n",
        "**So basically the people who bought International plans are churning in big numbers.**\n",
        "\n",
        "**Probably because of connectivity issues or high call charge.**"
      ],
      "metadata": {
        "id": "gEpNyzCpUwDC"
      }
    },
    {
      "cell_type": "markdown",
      "source": [
        "**Analyzing \"Voice Mail Plan\" column**"
      ],
      "metadata": {
        "id": "TnvfbYQWVI05"
      }
    },
    {
      "cell_type": "code",
      "source": [
        "#show the unique value of the \"Voice mail plan\" column\n",
        "telecom_df[\"Voice mail plan\"].unique()"
      ],
      "metadata": {
        "colab": {
          "base_uri": "https://localhost:8080/"
        },
        "id": "i8AF9FjQUVKm",
        "outputId": "9147bef3-b8e3-4adc-d9ab-2f2f82ba7683"
      },
      "execution_count": 5,
      "outputs": [
        {
          "output_type": "execute_result",
          "data": {
            "text/plain": [
              "array(['Yes', 'No'], dtype=object)"
            ]
          },
          "metadata": {},
          "execution_count": 5
        }
      ]
    },
    {
      "cell_type": "code",
      "source": [
        "#Calculate the Voice Mail Plan vs Churn percentage\n",
        "Voice_mail_plan_data = pd.crosstab(telecom_df[\"Voice mail plan\"],telecom_df[\"Churn\"])\n",
        "Voice_mail_plan_data['Percentage Churn'] = Voice_mail_plan_data.apply(lambda x : x[1]*100/(x[0]+x[1]),axis = 1)\n",
        "print(Voice_mail_plan_data)"
      ],
      "metadata": {
        "colab": {
          "base_uri": "https://localhost:8080/"
        },
        "id": "uyAq2cydV0j8",
        "outputId": "58d5c423-75d3-4cc4-8f3b-ddac6b972f5a"
      },
      "execution_count": 6,
      "outputs": [
        {
          "output_type": "stream",
          "name": "stdout",
          "text": [
            "Churn            False  True  Percentage Churn\n",
            "Voice mail plan                               \n",
            "No                2008   403         16.715056\n",
            "Yes                842    80          8.676790\n"
          ]
        }
      ]
    },
    {
      "cell_type": "code",
      "source": [
        "#To get the Donut Plot to analyze Voice mail plan\n",
        "data = telecom_df['Voice mail plan'].value_counts()\n",
        "explode = (0, 0.2)\n",
        "plt.pie(data, explode = explode,autopct='%1.1f%%',startangle=90,shadow=True,radius = 2.0, labels = ['NO','YES'],colors=['skyblue','red'])\n",
        "circle = plt.Circle( (0,0), 1, color='white')\n",
        "p=plt.gcf()\n",
        "p.gca().add_artist(circle)\n",
        "plt.title('Donut Plot for Voice mail plan')\n",
        "plt.show()"
      ],
      "metadata": {
        "colab": {
          "base_uri": "https://localhost:8080/",
          "height": 392
        },
        "id": "2mb6-vD_V2Gs",
        "outputId": "51e8607c-eb78-4c41-f5d9-a97eb9d6375d"
      },
      "execution_count": 7,
      "outputs": [
        {
          "output_type": "display_data",
          "data": {
            "text/plain": [
              "<Figure size 432x288 with 1 Axes>"
            ],
            "image/png": "[encoded data removed]"
          },
          "metadata": {}
        }
      ]
    },
    {
      "cell_type": "code",
      "source": [
        "#Analysing by using countplot\n",
        "sns.countplot(x='Voice mail plan',hue=\"Churn\",data = telecom_df)"
      ],
      "metadata": {
        "colab": {
          "base_uri": "https://localhost:8080/",
          "height": 296
        },
        "id": "oHQ6CNddV6iM",
        "outputId": "80b3cd5a-d096-46e5-f68d-3b9ea2ded6c4"
      },
      "execution_count": 8,
      "outputs": [
        {
          "output_type": "execute_result",
          "data": {
            "text/plain": [
              "<AxesSubplot:xlabel='Voice mail plan', ylabel='count'>"
            ]
          },
          "metadata": {},
          "execution_count": 8
        },
        {
          "output_type": "display_data",
          "data": {
            "text/plain": [
              "<Figure size 432x288 with 1 Axes>"
            ],
            "image/png": "[encoded data removed]"
          },
          "metadata": {
            "needs_background": "light"
          }
        }
      ]
    },
    {
      "cell_type": "markdown",
      "source": [
        "***As we can see there is are no clear relation between voice mail plan and churn so we can't clearly say anything so let's move to the next voice mail feature i.e number of voice mail, let's see what it gives to us.***"
      ],
      "metadata": {
        "id": "bMfMS7ylWB9l"
      }
    },
    {
      "cell_type": "markdown",
      "source": [
        "**Analyzing \"Number vmail messages\" column**"
      ],
      "metadata": {
        "id": "tenlrKa0WIG7"
      }
    },
    {
      "cell_type": "code",
      "source": [
        "#show the data of 'Number vmail messages' \n",
        "telecom_df['Number vmail messages'].unique()"
      ],
      "metadata": {
        "colab": {
          "base_uri": "https://localhost:8080/"
        },
        "id": "yj4EGuihWE_l",
        "outputId": "97661551-ebcd-403b-f730-b038e4562b53"
      },
      "execution_count": 9,
      "outputs": [
        {
          "output_type": "execute_result",
          "data": {
            "text/plain": [
              "array([25, 26,  0, 24, 37, 27, 33, 39, 30, 41, 28, 34, 46, 29, 35, 21, 32,\n",
              "       42, 36, 22, 23, 43, 31, 38, 40, 48, 18, 17, 45, 16, 20, 14, 19, 51,\n",
              "       15, 11, 12, 47,  8, 44, 49,  4, 10, 13, 50,  9])"
            ]
          },
          "metadata": {},
          "execution_count": 9
        }
      ]
    },
    {
      "cell_type": "code",
      "source": [
        "#Printing the data of 'Number vmail messages'\n",
        "telecom_df['Number vmail messages'].value_counts()"
      ],
      "metadata": {
        "colab": {
          "base_uri": "https://localhost:8080/"
        },
        "id": "C9mC_lQ1WNwG",
        "outputId": "042145a6-aa2d-4b94-8f24-b14b512a2094"
      },
      "execution_count": 10,
      "outputs": [
        {
          "output_type": "execute_result",
          "data": {
            "text/plain": [
              "0     2411\n",
              "31      60\n",
              "29      53\n",
              "28      51\n",
              "33      46\n",
              "27      44\n",
              "30      44\n",
              "24      42\n",
              "26      41\n",
              "32      41\n",
              "25      37\n",
              "23      36\n",
              "36      34\n",
              "22      32\n",
              "35      32\n",
              "39      30\n",
              "34      29\n",
              "37      29\n",
              "21      28\n",
              "38      25\n",
              "20      22\n",
              "19      19\n",
              "40      16\n",
              "42      15\n",
              "17      14\n",
              "16      13\n",
              "41      13\n",
              "43       9\n",
              "15       9\n",
              "18       7\n",
              "44       7\n",
              "14       7\n",
              "45       6\n",
              "12       6\n",
              "46       4\n",
              "13       4\n",
              "47       3\n",
              "50       2\n",
              "9        2\n",
              "8        2\n",
              "11       2\n",
              "48       2\n",
              "49       1\n",
              "4        1\n",
              "10       1\n",
              "51       1\n",
              "Name: Number vmail messages, dtype: int64"
            ]
          },
          "metadata": {},
          "execution_count": 10
        }
      ]
    },
    {
      "cell_type": "code",
      "source": [
        "#Show the details of 'Number vmail messages' data\n",
        "telecom_df['Number vmail messages'].describe()"
      ],
      "metadata": {
        "colab": {
          "base_uri": "https://localhost:8080/"
        },
        "id": "ABvfnBEvWPIs",
        "outputId": "c1cd115d-154f-4da7-d30a-c7455cf041fc"
      },
      "execution_count": 11,
      "outputs": [
        {
          "output_type": "execute_result",
          "data": {
            "text/plain": [
              "count    3333.000000\n",
              "mean        8.099010\n",
              "std        13.688365\n",
              "min         0.000000\n",
              "25%         0.000000\n",
              "50%         0.000000\n",
              "75%        20.000000\n",
              "max        51.000000\n",
              "Name: Number vmail messages, dtype: float64"
            ]
          },
          "metadata": {},
          "execution_count": 11
        }
      ]
    },
    {
      "cell_type": "code",
      "source": [
        "#Analysing by using displot diagram\n",
        "sns.distplot(telecom_df['Number vmail messages'])"
      ],
      "metadata": {
        "colab": {
          "base_uri": "https://localhost:8080/",
          "height": 351
        },
        "id": "CzRqw2xiWR3-",
        "outputId": "5dcf8869-22a7-41ef-aeba-a1e1704ddd55"
      },
      "execution_count": 12,
      "outputs": [
        {
          "output_type": "stream",
          "name": "stderr",
          "text": [
            "/usr/local/lib/python3.8/dist-packages/seaborn/distributions.py:2619: FutureWarning: `distplot` is a deprecated function and will be removed in a future version. Please adapt your code to use either `displot` (a figure-level function with similar flexibility) or `histplot` (an axes-level function for histograms).\n",
            "  warnings.warn(msg, FutureWarning)\n"
          ]
        },
        {
          "output_type": "execute_result",
          "data": {
            "text/plain": [
              "<AxesSubplot:xlabel='Number vmail messages', ylabel='Density'>"
            ]
          },
          "metadata": {},
          "execution_count": 12
        },
        {
          "output_type": "display_data",
          "data": {
            "text/plain": [
              "<Figure size 432x288 with 1 Axes>"
            ],
            "image/png": "[encoded data removed]"
          },
          "metadata": {
            "needs_background": "light"
          }
        }
      ]
    },
    {
      "cell_type": "code",
      "source": [
        "#Analysing by using boxplot diagram between 'number vmail messages' and 'churn'\n",
        "fig = plt.figure(figsize =(10, 8)) \n",
        "telecom_df.boxplot(column='Number vmail messages', by='Churn')\n",
        "fig.suptitle('Number vmail message', fontsize=14, fontweight='bold')\n",
        "plt.show()"
      ],
      "metadata": {
        "colab": {
          "base_uri": "https://localhost:8080/",
          "height": 318
        },
        "id": "o0Hi8ER0WX0D",
        "outputId": "e31306fa-eb07-4254-aa01-7806864cad57"
      },
      "execution_count": 13,
      "outputs": [
        {
          "output_type": "display_data",
          "data": {
            "text/plain": [
              "<Figure size 720x576 with 0 Axes>"
            ]
          },
          "metadata": {}
        },
        {
          "output_type": "display_data",
          "data": {
            "text/plain": [
              "<Figure size 432x288 with 1 Axes>"
            ],
            "image/png": "[encoded data removed]"
          },
          "metadata": {
            "needs_background": "light"
          }
        }
      ]
    },
    {
      "cell_type": "markdown",
      "source": [
        "**After analyzing the above voice mail feature data we get an insight that when there are more than 20 voice-mail messages then there is a churn**\n",
        "\n",
        "**For that, we need to improve the voice mail quality.**"
      ],
      "metadata": {
        "id": "A9ciosxUWbFX"
      }
    },
    {
      "cell_type": "code",
      "source": [
        "telecom_df.head(2)"
      ],
      "metadata": {
        "colab": {
          "base_uri": "https://localhost:8080/",
          "height": 191
        },
        "id": "frr6xBGNWq89",
        "outputId": "79d331ff-2880-46de-fd13-eefb70509241"
      },
      "execution_count": 14,
      "outputs": [
        {
          "output_type": "execute_result",
          "data": {
            "text/plain": [
              "  State  Account length  Area code International plan Voice mail plan  \\\n",
              "0    KS             128        415                 No             Yes   \n",
              "1    OH             107        415                 No             Yes   \n",
              "\n",
              "   Number vmail messages  Total day minutes  Total day calls  \\\n",
              "0                     25              265.1              110   \n",
              "1                     26              161.6              123   \n",
              "\n",
              "   Total day charge  Total eve minutes  Total eve calls  Total eve charge  \\\n",
              "0             45.07              197.4               99             16.78   \n",
              "1             27.47              195.5              103             16.62   \n",
              "\n",
              "   Total night minutes  Total night calls  Total night charge  \\\n",
              "0                244.7                 91               11.01   \n",
              "1                254.4                103               11.45   \n",
              "\n",
              "   Total intl minutes  Total intl calls  Total intl charge  \\\n",
              "0                10.0                 3                2.7   \n",
              "1                13.7                 3                3.7   \n",
              "\n",
              "   Customer service calls  Churn  \n",
              "0                       1  False  \n",
              "1                       1  False  "
            ],
            "text/html": [
              "\n",
              "  <div id=\"df-d7d11cea-e121-4021-8e4f-4d8464212134\">\n",
              "    <div class=\"colab-df-container\">\n",
              "      <div>\n",
              "<style scoped>\n",
              "    .dataframe tbody tr th:only-of-type {\n",
              "        vertical-align: middle;\n",
              "    }\n",
              "\n",
              "    .dataframe tbody tr th {\n",
              "        vertical-align: top;\n",
              "    }\n",
              "\n",
              "    .dataframe thead th {\n",
              "        text-align: right;\n",
              "    }\n",
              "</style>\n",
              "<table border=\"1\" class=\"dataframe\">\n",
              "  <thead>\n",
              "    <tr style=\"text-align: right;\">\n",
              "      <th></th>\n",
              "      <th>State</th>\n",
              "      <th>Account length</th>\n",
              "      <th>Area code</th>\n",
              "      <th>International plan</th>\n",
              "      <th>Voice mail plan</th>\n",
              "      <th>Number vmail messages</th>\n",
              "      <th>Total day minutes</th>\n",
              "      <th>Total day calls</th>\n",
              "      <th>Total day charge</th>\n",
              "      <th>Total eve minutes</th>\n",
              "      <th>Total eve calls</th>\n",
              "      <th>Total eve charge</th>\n",
              "      <th>Total night minutes</th>\n",
              "      <th>Total night calls</th>\n",
              "      <th>Total night charge</th>\n",
              "      <th>Total intl minutes</th>\n",
              "      <th>Total intl calls</th>\n",
              "      <th>Total intl charge</th>\n",
              "      <th>Customer service calls</th>\n",
              "      <th>Churn</th>\n",
              "    </tr>\n",
              "  </thead>\n",
              "  <tbody>\n",
              "    <tr>\n",
              "      <th>0</th>\n",
              "      <td>KS</td>\n",
              "      <td>128</td>\n",
              "      <td>415</td>\n",
              "      <td>No</td>\n",
              "      <td>Yes</td>\n",
              "      <td>25</td>\n",
              "      <td>265.1</td>\n",
              "      <td>110</td>\n",
              "      <td>45.07</td>\n",
              "      <td>197.4</td>\n",
              "      <td>99</td>\n",
              "      <td>16.78</td>\n",
              "      <td>244.7</td>\n",
              "      <td>91</td>\n",
              "      <td>11.01</td>\n",
              "      <td>10.0</td>\n",
              "      <td>3</td>\n",
              "      <td>2.7</td>\n",
              "      <td>1</td>\n",
              "      <td>False</td>\n",
              "    </tr>\n",
              "    <tr>\n",
              "      <th>1</th>\n",
              "      <td>OH</td>\n",
              "      <td>107</td>\n",
              "      <td>415</td>\n",
              "      <td>No</td>\n",
              "      <td>Yes</td>\n",
              "      <td>26</td>\n",
              "      <td>161.6</td>\n",
              "      <td>123</td>\n",
              "      <td>27.47</td>\n",
              "      <td>195.5</td>\n",
              "      <td>103</td>\n",
              "      <td>16.62</td>\n",
              "      <td>254.4</td>\n",
              "      <td>103</td>\n",
              "      <td>11.45</td>\n",
              "      <td>13.7</td>\n",
              "      <td>3</td>\n",
              "      <td>3.7</td>\n",
              "      <td>1</td>\n",
              "      <td>False</td>\n",
              "    </tr>\n",
              "  </tbody>\n",
              "</table>\n",
              "</div>\n",
              "      <button class=\"colab-df-convert\" onclick=\"convertToInteractive('df-d7d11cea-e121-4021-8e4f-4d8464212134')\"\n",
              "              title=\"Convert this dataframe to an interactive table.\"\n",
              "              style=\"display:none;\">\n",
              "        \n",
              "  <svg xmlns=\"http://www.w3.org/2000/svg\" height=\"24px\"viewBox=\"0 0 24 24\"\n",
              "       width=\"24px\">\n",
              "    <path d=\"M0 0h24v24H0V0z\" fill=\"none\"/>\n",
              "    <path d=\"M18.56 5.44l.94 2.06.94-2.06 2.06-.94-2.06-.94-.94-2.06-.94 2.06-2.06.94zm-11 1L8.5 8.5l.94-2.06 2.06-.94-2.06-.94L8.5 2.5l-.94 2.06-2.06.94zm10 10l.94 2.06.94-2.06 2.06-.94-2.06-.94-.94-2.06-.94 2.06-2.06.94z\"/><path d=\"M17.41 7.96l-1.37-1.37c-.4-.4-.92-.59-1.43-.59-.52 0-1.04.2-1.43.59L10.3 9.45l-7.72 7.72c-.78.78-.78 2.05 0 2.83L4 21.41c.39.39.9.59 1.41.59.51 0 1.02-.2 1.41-.59l7.78-7.78 2.81-2.81c.8-.78.8-2.07 0-2.86zM5.41 20L4 18.59l7.72-7.72 1.47 1.35L5.41 20z\"/>\n",
              "  </svg>\n",
              "      </button>\n",
              "      \n",
              "  <style>\n",
              "    .colab-df-container {\n",
              "      display:flex;\n",
              "      flex-wrap:wrap;\n",
              "      gap: 12px;\n",
              "    }\n",
              "\n",
              "    .colab-df-convert {\n",
              "      background-color: #E8F0FE;\n",
              "      border: none;\n",
              "      border-radius: 50%;\n",
              "      cursor: pointer;\n",
              "      display: none;\n",
              "      fill: #1967D2;\n",
              "      height: 32px;\n",
              "      padding: 0 0 0 0;\n",
              "      width: 32px;\n",
              "    }\n",
              "\n",
              "    .colab-df-convert:hover {\n",
              "      background-color: #E2EBFA;\n",
              "      box-shadow: 0px 1px 2px rgba(60, 64, 67, 0.3), 0px 1px 3px 1px rgba(60, 64, 67, 0.15);\n",
              "      fill: #174EA6;\n",
              "    }\n",
              "\n",
              "    [theme=dark] .colab-df-convert {\n",
              "      background-color: #3B4455;\n",
              "      fill: #D2E3FC;\n",
              "    }\n",
              "\n",
              "    [theme=dark] .colab-df-convert:hover {\n",
              "      background-color: #434B5C;\n",
              "      box-shadow: 0px 1px 3px 1px rgba(0, 0, 0, 0.15);\n",
              "      filter: drop-shadow(0px 1px 2px rgba(0, 0, 0, 0.3));\n",
              "      fill: #FFFFFF;\n",
              "    }\n",
              "  </style>\n",
              "\n",
              "      <script>\n",
              "        const buttonEl =\n",
              "          document.querySelector('#df-d7d11cea-e121-4021-8e4f-4d8464212134 button.colab-df-convert');\n",
              "        buttonEl.style.display =\n",
              "          google.colab.kernel.accessAllowed ? 'block' : 'none';\n",
              "\n",
              "        async function convertToInteractive(key) {\n",
              "          const element = document.querySelector('#df-d7d11cea-e121-4021-8e4f-4d8464212134');\n",
              "          const dataTable =\n",
              "            await google.colab.kernel.invokeFunction('convertToInteractive',\n",
              "                                                     [key], {});\n",
              "          if (!dataTable) return;\n",
              "\n",
              "          const docLinkHtml = 'Like what you see? Visit the ' +\n",
              "            '<a target=\"_blank\" href=https://colab.research.google.com/notebooks/data_table.ipynb>data table notebook</a>'\n",
              "            + ' to learn more about interactive tables.';\n",
              "          element.innerHTML = '';\n",
              "          dataTable['output_type'] = 'display_data';\n",
              "          await google.colab.output.renderOutput(dataTable, element);\n",
              "          const docLink = document.createElement('div');\n",
              "          docLink.innerHTML = docLinkHtml;\n",
              "          element.appendChild(docLink);\n",
              "        }\n",
              "      </script>\n",
              "    </div>\n",
              "  </div>\n",
              "  "
            ]
          },
          "metadata": {},
          "execution_count": 14
        }
      ]
    },
    {
      "cell_type": "code",
      "source": [
        "telecom_df[\"Number vmail messages\"].value_counts()"
      ],
      "metadata": {
        "colab": {
          "base_uri": "https://localhost:8080/"
        },
        "id": "tWnvXXb2X3qh",
        "outputId": "c5fbc0a2-dde0-4bb7-947f-e63aeee9c586"
      },
      "execution_count": 19,
      "outputs": [
        {
          "output_type": "execute_result",
          "data": {
            "text/plain": [
              "0     2411\n",
              "31      60\n",
              "29      53\n",
              "28      51\n",
              "33      46\n",
              "27      44\n",
              "30      44\n",
              "24      42\n",
              "26      41\n",
              "32      41\n",
              "25      37\n",
              "23      36\n",
              "36      34\n",
              "22      32\n",
              "35      32\n",
              "39      30\n",
              "34      29\n",
              "37      29\n",
              "21      28\n",
              "38      25\n",
              "20      22\n",
              "19      19\n",
              "40      16\n",
              "42      15\n",
              "17      14\n",
              "16      13\n",
              "41      13\n",
              "43       9\n",
              "15       9\n",
              "18       7\n",
              "44       7\n",
              "14       7\n",
              "45       6\n",
              "12       6\n",
              "46       4\n",
              "13       4\n",
              "47       3\n",
              "50       2\n",
              "9        2\n",
              "8        2\n",
              "11       2\n",
              "48       2\n",
              "49       1\n",
              "4        1\n",
              "10       1\n",
              "51       1\n",
              "Name: Number vmail messages, dtype: int64"
            ]
          },
          "metadata": {},
          "execution_count": 19
        }
      ]
    },
    {
      "cell_type": "code",
      "source": [
        "telecom_df[\"Number vmail messages\"].unique()"
      ],
      "metadata": {
        "colab": {
          "base_uri": "https://localhost:8080/"
        },
        "id": "HP3D6HxtYTfN",
        "outputId": "1c676784-4d7f-4d62-cc76-fcc8b16151f4"
      },
      "execution_count": 20,
      "outputs": [
        {
          "output_type": "execute_result",
          "data": {
            "text/plain": [
              "array([25, 26,  0, 24, 37, 27, 33, 39, 30, 41, 28, 34, 46, 29, 35, 21, 32,\n",
              "       42, 36, 22, 23, 43, 31, 38, 40, 48, 18, 17, 45, 16, 20, 14, 19, 51,\n",
              "       15, 11, 12, 47,  8, 44, 49,  4, 10, 13, 50,  9])"
            ]
          },
          "metadata": {},
          "execution_count": 20
        }
      ]
    },
    {
      "cell_type": "code",
      "source": [
        "sns.distplot(telecom_df['Number vmail messages'])"
      ],
      "metadata": {
        "colab": {
          "base_uri": "https://localhost:8080/",
          "height": 351
        },
        "id": "2HUnudWJXByD",
        "outputId": "b0aa1e06-1dba-4a6f-91f6-80cd49a352f4"
      },
      "execution_count": 17,
      "outputs": [
        {
          "output_type": "stream",
          "name": "stderr",
          "text": [
            "/usr/local/lib/python3.8/dist-packages/seaborn/distributions.py:2619: FutureWarning: `distplot` is a deprecated function and will be removed in a future version. Please adapt your code to use either `displot` (a figure-level function with similar flexibility) or `histplot` (an axes-level function for histograms).\n",
            "  warnings.warn(msg, FutureWarning)\n"
          ]
        },
        {
          "output_type": "execute_result",
          "data": {
            "text/plain": [
              "<AxesSubplot:xlabel='Number vmail messages', ylabel='Density'>"
            ]
          },
          "metadata": {},
          "execution_count": 17
        },
        {
          "output_type": "display_data",
          "data": {
            "text/plain": [
              "<Figure size 432x288 with 1 Axes>"
            ],
            "image/png": "[encoded data removed]"
          },
          "metadata": {
            "needs_background": "light"
          }
        }
      ]
    }
  ],
  "metadata": {
    "colab": {
      "provenance": [],
      "authorship_tag": "ABX9TyOBsX50NtombSCOHRmBYdE3",
      "include_colab_link": true
    },
    "kernelspec": {
      "display_name": "Python 3",
      "name": "python3"
    },
    "language_info": {
      "name": "python"
    }
  },
  "nbformat": 4,
  "nbformat_minor": 0
}